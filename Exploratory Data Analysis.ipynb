{
 "cells": [
  {
   "cell_type": "markdown",
   "metadata": {},
   "source": [
    "## Dell Capstone EDA"
   ]
  },
  {
   "cell_type": "code",
   "execution_count": null,
   "metadata": {
    "id": "OxC9NFPn4Bqo"
   },
   "outputs": [],
   "source": [
    "import numpy as np\n",
    "import pandas as pd\n",
    "from bs4 import BeautifulSoup\n",
    "import seaborn as sns\n",
    "from datetime import datetime\n",
    "import matplotlib.pyplot as plt\n"
   ]
  },
  {
   "cell_type": "code",
   "execution_count": null,
   "metadata": {
    "colab": {
     "base_uri": "https://localhost:8080/"
    },
    "id": "gNq3E3uz4Hpp",
    "outputId": "b534c894-3662-4dda-d21e-962dc1f8eb58"
   },
   "outputs": [
    {
     "name": "stdout",
     "output_type": "stream",
     "text": [
      "Drive already mounted at /content/drive; to attempt to forcibly remount, call drive.mount(\"/content/drive\", force_remount=True).\n"
     ]
    }
   ],
   "source": [
    "##SAVE DATA FILES IN GOOGLE DRIVE (IN MYDRIVE FOLDER)\n",
    "from google.colab import drive\n",
    "drive.mount('/content/drive')\n",
    "%cd drive/MyDrive/\n",
    "%cd Capstone_Data_part1/"
   ]
  },
  {
   "cell_type": "code",
   "execution_count": null,
   "metadata": {
    "id": "B2hEAR2gGyyc"
   },
   "outputs": [],
   "source": [
    "#Read Chat data\n",
    "dfchatdata = pd.read_csv('chatdata0107_anonymized.csv')\n"
   ]
  },
  {
   "cell_type": "code",
   "execution_count": null,
   "metadata": {
    "id": "vZB6ZtRFVfsa"
   },
   "outputs": [],
   "source": [
    "dfcaselog1 = pd.read_csv('../Capstone_Data_part2/CaseLog_W27_30_anonymized.csv')\n",
    "dfcaselog2 = pd.read_csv('../Capstone_Data_part2/CaseLog_W31_34_anonymized.csv')\n",
    "dfcaselog3 = pd.read_csv('../Capstone_Data_part2/CaseLog_W35_39_anonymized.csv')"
   ]
  },
  {
   "cell_type": "code",
   "execution_count": null,
   "metadata": {
    "id": "HdNL7HfUV3Z0"
   },
   "outputs": [],
   "source": [
    "caseLog_combined = pd.concat([dfcaselog1,dfcaselog2,dfcaselog3])\n"
   ]
  },
  {
   "cell_type": "code",
   "execution_count": null,
   "metadata": {
    "colab": {
     "base_uri": "https://localhost:8080/",
     "height": 870
    },
    "id": "Sc3CP81HaAWK",
    "outputId": "e1a8074f-7ac9-442e-87ff-a6381bfeb79f"
   },
   "outputs": [
    {
     "data": {
      "text/html": [
       "\n",
       "  <div id=\"df-6cb7908f-cf98-4700-9712-fd183f7d3ec2\">\n",
       "    <div class=\"colab-df-container\">\n",
       "      <div>\n",
       "<style scoped>\n",
       "    .dataframe tbody tr th:only-of-type {\n",
       "        vertical-align: middle;\n",
       "    }\n",
       "\n",
       "    .dataframe tbody tr th {\n",
       "        vertical-align: top;\n",
       "    }\n",
       "\n",
       "    .dataframe thead th {\n",
       "        text-align: right;\n",
       "    }\n",
       "</style>\n",
       "<table border=\"1\" class=\"dataframe\">\n",
       "  <thead>\n",
       "    <tr style=\"text-align: right;\">\n",
       "      <th></th>\n",
       "      <th>FISC_QTR_VAL</th>\n",
       "      <th>FISC_WEEK_VAL</th>\n",
       "      <th>Group_name</th>\n",
       "      <th>Region_name</th>\n",
       "      <th>Sub_Region_name</th>\n",
       "      <th>CASE_NBR</th>\n",
       "      <th>TASK_TYPE_CD</th>\n",
       "      <th>TASK_SUB_TYPE_CD</th>\n",
       "      <th>CRT_DTS</th>\n",
       "      <th>Agent_comments</th>\n",
       "    </tr>\n",
       "  </thead>\n",
       "  <tbody>\n",
       "    <tr>\n",
       "      <th>0</th>\n",
       "      <td>2021-Q3</td>\n",
       "      <td>2021-W29</td>\n",
       "      <td>Client Basic Support Consumer</td>\n",
       "      <td>AMERICAS</td>\n",
       "      <td>United States</td>\n",
       "      <td>74150784.0</td>\n",
       "      <td>Customer Outbound</td>\n",
       "      <td>Email</td>\n",
       "      <td>8/12/2020 18:16</td>\n",
       "      <td>Additional NAME: {{EMAIL}} NAME: NAME: {{NAME}...</td>\n",
       "    </tr>\n",
       "    <tr>\n",
       "      <th>1</th>\n",
       "      <td>2021-Q3</td>\n",
       "      <td>2021-W29</td>\n",
       "      <td>Client Basic Support Consumer</td>\n",
       "      <td>AMERICAS</td>\n",
       "      <td>United States</td>\n",
       "      <td>69082333.0</td>\n",
       "      <td>Email</td>\n",
       "      <td>Task</td>\n",
       "      <td>6/29/2020 17:54</td>\n",
       "      <td>NaN</td>\n",
       "    </tr>\n",
       "    <tr>\n",
       "      <th>2</th>\n",
       "      <td>2021-Q3</td>\n",
       "      <td>2021-W29</td>\n",
       "      <td>Commercial Client Services</td>\n",
       "      <td>AMERICAS</td>\n",
       "      <td>United States</td>\n",
       "      <td>74276728.0</td>\n",
       "      <td>Customer Inbound</td>\n",
       "      <td>Call</td>\n",
       "      <td>8/5/2020 13:08</td>\n",
       "      <td>NaN</td>\n",
       "    </tr>\n",
       "    <tr>\n",
       "      <th>3</th>\n",
       "      <td>2021-Q3</td>\n",
       "      <td>2021-W30</td>\n",
       "      <td>Client Basic Support Consumer</td>\n",
       "      <td>AMERICAS</td>\n",
       "      <td>United States</td>\n",
       "      <td>77812902.0</td>\n",
       "      <td>Close</td>\n",
       "      <td>Task</td>\n",
       "      <td>8/24/2020 23:03</td>\n",
       "      <td>NaN</td>\n",
       "    </tr>\n",
       "    <tr>\n",
       "      <th>4</th>\n",
       "      <td>2021-Q3</td>\n",
       "      <td>2021-W29</td>\n",
       "      <td>Commercial Client Services</td>\n",
       "      <td>AMERICAS</td>\n",
       "      <td>United States</td>\n",
       "      <td>72038233.0</td>\n",
       "      <td>Customer Inbound</td>\n",
       "      <td>Email</td>\n",
       "      <td>8/4/2020 22:44</td>\n",
       "      <td>NAME: {{EMAIL}} NAME: NAME: NAME: {{EMAIL}} NA...</td>\n",
       "    </tr>\n",
       "    <tr>\n",
       "      <th>...</th>\n",
       "      <td>...</td>\n",
       "      <td>...</td>\n",
       "      <td>...</td>\n",
       "      <td>...</td>\n",
       "      <td>...</td>\n",
       "      <td>...</td>\n",
       "      <td>...</td>\n",
       "      <td>...</td>\n",
       "      <td>...</td>\n",
       "      <td>...</td>\n",
       "    </tr>\n",
       "    <tr>\n",
       "      <th>937079</th>\n",
       "      <td>2021-Q3</td>\n",
       "      <td>2021-W36</td>\n",
       "      <td>Commercial Client Services</td>\n",
       "      <td>AMERICAS</td>\n",
       "      <td>United States</td>\n",
       "      <td>80376174.0</td>\n",
       "      <td>Customer Outbound</td>\n",
       "      <td>Email</td>\n",
       "      <td>9/16/2020 21:45</td>\n",
       "      <td>Additional NAME: {{EMAIL}} NAME: NAME: {{NAME}...</td>\n",
       "    </tr>\n",
       "    <tr>\n",
       "      <th>937080</th>\n",
       "      <td>2021-Q3</td>\n",
       "      <td>2021-W39</td>\n",
       "      <td>Commercial Client Services</td>\n",
       "      <td>AMERICAS</td>\n",
       "      <td>United States</td>\n",
       "      <td>83471521.0</td>\n",
       "      <td>Customer Inbound</td>\n",
       "      <td>Call</td>\n",
       "      <td>10/21/2020 16:20</td>\n",
       "      <td>Issue {{NAME}}: {{NAME}} Issue Notes ({{NAME}}...</td>\n",
       "    </tr>\n",
       "    <tr>\n",
       "      <th>937081</th>\n",
       "      <td>2021-Q3</td>\n",
       "      <td>2021-W37</td>\n",
       "      <td>Commercial Client Services</td>\n",
       "      <td>AMERICAS</td>\n",
       "      <td>United States</td>\n",
       "      <td>81040859.0</td>\n",
       "      <td>Customer Inbound</td>\n",
       "      <td>Email</td>\n",
       "      <td>11/4/2020 21:04</td>\n",
       "      <td>NaN</td>\n",
       "    </tr>\n",
       "    <tr>\n",
       "      <th>937082</th>\n",
       "      <td>2021-Q3</td>\n",
       "      <td>2021-W39</td>\n",
       "      <td>Client Basic Support Consumer</td>\n",
       "      <td>AMERICAS</td>\n",
       "      <td>United States</td>\n",
       "      <td>82737895.0</td>\n",
       "      <td>Customer Outbound</td>\n",
       "      <td>Call</td>\n",
       "      <td>10/14/2020 0:58</td>\n",
       "      <td>cx called in said that was facing issues with ...</td>\n",
       "    </tr>\n",
       "    <tr>\n",
       "      <th>937083</th>\n",
       "      <td>2021-Q3</td>\n",
       "      <td>2021-W37</td>\n",
       "      <td>Client Basic Support Consumer</td>\n",
       "      <td>AMERICAS</td>\n",
       "      <td>United States</td>\n",
       "      <td>82498909.0</td>\n",
       "      <td>Customer Outbound</td>\n",
       "      <td>Call</td>\n",
       "      <td>10/11/2020 18:49</td>\n",
       "      <td>Called the cx - Reached the {{NAME}} - enabled...</td>\n",
       "    </tr>\n",
       "  </tbody>\n",
       "</table>\n",
       "<p>2353418 rows × 10 columns</p>\n",
       "</div>\n",
       "      <button class=\"colab-df-convert\" onclick=\"convertToInteractive('df-6cb7908f-cf98-4700-9712-fd183f7d3ec2')\"\n",
       "              title=\"Convert this dataframe to an interactive table.\"\n",
       "              style=\"display:none;\">\n",
       "        \n",
       "  <svg xmlns=\"http://www.w3.org/2000/svg\" height=\"24px\"viewBox=\"0 0 24 24\"\n",
       "       width=\"24px\">\n",
       "    <path d=\"M0 0h24v24H0V0z\" fill=\"none\"/>\n",
       "    <path d=\"M18.56 5.44l.94 2.06.94-2.06 2.06-.94-2.06-.94-.94-2.06-.94 2.06-2.06.94zm-11 1L8.5 8.5l.94-2.06 2.06-.94-2.06-.94L8.5 2.5l-.94 2.06-2.06.94zm10 10l.94 2.06.94-2.06 2.06-.94-2.06-.94-.94-2.06-.94 2.06-2.06.94z\"/><path d=\"M17.41 7.96l-1.37-1.37c-.4-.4-.92-.59-1.43-.59-.52 0-1.04.2-1.43.59L10.3 9.45l-7.72 7.72c-.78.78-.78 2.05 0 2.83L4 21.41c.39.39.9.59 1.41.59.51 0 1.02-.2 1.41-.59l7.78-7.78 2.81-2.81c.8-.78.8-2.07 0-2.86zM5.41 20L4 18.59l7.72-7.72 1.47 1.35L5.41 20z\"/>\n",
       "  </svg>\n",
       "      </button>\n",
       "      \n",
       "  <style>\n",
       "    .colab-df-container {\n",
       "      display:flex;\n",
       "      flex-wrap:wrap;\n",
       "      gap: 12px;\n",
       "    }\n",
       "\n",
       "    .colab-df-convert {\n",
       "      background-color: #E8F0FE;\n",
       "      border: none;\n",
       "      border-radius: 50%;\n",
       "      cursor: pointer;\n",
       "      display: none;\n",
       "      fill: #1967D2;\n",
       "      height: 32px;\n",
       "      padding: 0 0 0 0;\n",
       "      width: 32px;\n",
       "    }\n",
       "\n",
       "    .colab-df-convert:hover {\n",
       "      background-color: #E2EBFA;\n",
       "      box-shadow: 0px 1px 2px rgba(60, 64, 67, 0.3), 0px 1px 3px 1px rgba(60, 64, 67, 0.15);\n",
       "      fill: #174EA6;\n",
       "    }\n",
       "\n",
       "    [theme=dark] .colab-df-convert {\n",
       "      background-color: #3B4455;\n",
       "      fill: #D2E3FC;\n",
       "    }\n",
       "\n",
       "    [theme=dark] .colab-df-convert:hover {\n",
       "      background-color: #434B5C;\n",
       "      box-shadow: 0px 1px 3px 1px rgba(0, 0, 0, 0.15);\n",
       "      filter: drop-shadow(0px 1px 2px rgba(0, 0, 0, 0.3));\n",
       "      fill: #FFFFFF;\n",
       "    }\n",
       "  </style>\n",
       "\n",
       "      <script>\n",
       "        const buttonEl =\n",
       "          document.querySelector('#df-6cb7908f-cf98-4700-9712-fd183f7d3ec2 button.colab-df-convert');\n",
       "        buttonEl.style.display =\n",
       "          google.colab.kernel.accessAllowed ? 'block' : 'none';\n",
       "\n",
       "        async function convertToInteractive(key) {\n",
       "          const element = document.querySelector('#df-6cb7908f-cf98-4700-9712-fd183f7d3ec2');\n",
       "          const dataTable =\n",
       "            await google.colab.kernel.invokeFunction('convertToInteractive',\n",
       "                                                     [key], {});\n",
       "          if (!dataTable) return;\n",
       "\n",
       "          const docLinkHtml = 'Like what you see? Visit the ' +\n",
       "            '<a target=\"_blank\" href=https://colab.research.google.com/notebooks/data_table.ipynb>data table notebook</a>'\n",
       "            + ' to learn more about interactive tables.';\n",
       "          element.innerHTML = '';\n",
       "          dataTable['output_type'] = 'display_data';\n",
       "          await google.colab.output.renderOutput(dataTable, element);\n",
       "          const docLink = document.createElement('div');\n",
       "          docLink.innerHTML = docLinkHtml;\n",
       "          element.appendChild(docLink);\n",
       "        }\n",
       "      </script>\n",
       "    </div>\n",
       "  </div>\n",
       "  "
      ],
      "text/plain": [
       "       FISC_QTR_VAL FISC_WEEK_VAL                     Group_name Region_name  \\\n",
       "0           2021-Q3      2021-W29  Client Basic Support Consumer    AMERICAS   \n",
       "1           2021-Q3      2021-W29  Client Basic Support Consumer    AMERICAS   \n",
       "2           2021-Q3      2021-W29     Commercial Client Services    AMERICAS   \n",
       "3           2021-Q3      2021-W30  Client Basic Support Consumer    AMERICAS   \n",
       "4           2021-Q3      2021-W29     Commercial Client Services    AMERICAS   \n",
       "...             ...           ...                            ...         ...   \n",
       "937079      2021-Q3      2021-W36     Commercial Client Services    AMERICAS   \n",
       "937080      2021-Q3      2021-W39     Commercial Client Services    AMERICAS   \n",
       "937081      2021-Q3      2021-W37     Commercial Client Services    AMERICAS   \n",
       "937082      2021-Q3      2021-W39  Client Basic Support Consumer    AMERICAS   \n",
       "937083      2021-Q3      2021-W37  Client Basic Support Consumer    AMERICAS   \n",
       "\n",
       "       Sub_Region_name    CASE_NBR       TASK_TYPE_CD TASK_SUB_TYPE_CD  \\\n",
       "0        United States  74150784.0  Customer Outbound            Email   \n",
       "1        United States  69082333.0              Email             Task   \n",
       "2        United States  74276728.0   Customer Inbound             Call   \n",
       "3        United States  77812902.0              Close             Task   \n",
       "4        United States  72038233.0   Customer Inbound            Email   \n",
       "...                ...         ...                ...              ...   \n",
       "937079   United States  80376174.0  Customer Outbound            Email   \n",
       "937080   United States  83471521.0   Customer Inbound             Call   \n",
       "937081   United States  81040859.0   Customer Inbound            Email   \n",
       "937082   United States  82737895.0  Customer Outbound             Call   \n",
       "937083   United States  82498909.0  Customer Outbound             Call   \n",
       "\n",
       "                 CRT_DTS                                     Agent_comments  \n",
       "0        8/12/2020 18:16  Additional NAME: {{EMAIL}} NAME: NAME: {{NAME}...  \n",
       "1        6/29/2020 17:54                                                NaN  \n",
       "2         8/5/2020 13:08                                                NaN  \n",
       "3        8/24/2020 23:03                                                NaN  \n",
       "4         8/4/2020 22:44  NAME: {{EMAIL}} NAME: NAME: NAME: {{EMAIL}} NA...  \n",
       "...                  ...                                                ...  \n",
       "937079   9/16/2020 21:45  Additional NAME: {{EMAIL}} NAME: NAME: {{NAME}...  \n",
       "937080  10/21/2020 16:20  Issue {{NAME}}: {{NAME}} Issue Notes ({{NAME}}...  \n",
       "937081   11/4/2020 21:04                                                NaN  \n",
       "937082   10/14/2020 0:58  cx called in said that was facing issues with ...  \n",
       "937083  10/11/2020 18:49  Called the cx - Reached the {{NAME}} - enabled...  \n",
       "\n",
       "[2353418 rows x 10 columns]"
      ]
     },
     "execution_count": 11,
     "metadata": {},
     "output_type": "execute_result"
    }
   ],
   "source": [
    "caseLog_combined"
   ]
  },
  {
   "cell_type": "code",
   "execution_count": null,
   "metadata": {
    "colab": {
     "base_uri": "https://localhost:8080/"
    },
    "id": "sBakxex8VCHo",
    "outputId": "f61497f4-b0ac-464f-9dbd-5a0634080d38"
   },
   "outputs": [
    {
     "data": {
      "text/plain": [
       "Index(['Response_Date', 'INVTN_DT', 'Chat_CRT_DT', 'Response_ID',\n",
       "       'Response count', 'CHAT survey RESPONSE COUNT',\n",
       "       'CHAT SURVEY COMPLETED COUNT', 'Response_Status', 'Survey_ID',\n",
       "       'CUST_BU_ID', 'CASE_NBR', 'QUICK_CALL_FLG', 'FDBK_TKN_COUNT',\n",
       "       'FDBK_TAKEN_FLG', 'Chat_Queue_Name', 'Chat sessions count',\n",
       "       'Chat_Issue_Desc', 'CSAT count', 'DSAT count', 'NSAT count',\n",
       "       'Chat_Satisfaction_Score', 'Verbatim count', 'General_Feedback',\n",
       "       'Was_Issue_Resolved', 'Issue_Not_Resolved_Reason', 'FISCAL_WEEK',\n",
       "       'FISCAL_QUARTER', 'FISCAL_YEAR', 'FISCAL_MONTH', 'REGION_NAME',\n",
       "       'SUB_REGION_NAME', 'GROUP_NAME', 'SUB_GROUP_NAME', 'PARTNER_NAME',\n",
       "       'LOCATION_NAME', 'DEPARTMENT_NAME', 'FUNCTION_NAME', 'TEAM_NAME',\n",
       "       'QUEUE_NAME', 'CATEGORY_NAME', 'CONTACT_METHOD_NAME', 'PROD_GRP_DESC',\n",
       "       'PROD_TYPE_DESC', 'POH_PROD_TYPE_DESC', 'PRMIM_CD', 'Warranty_Type_Epi',\n",
       "       'Warranty Category Epi', 'CSG_ISG - EPI - FLAG', 'DELTA_SR_NBR',\n",
       "       'dps_count', 'CHAT_TXNSRPT_ID', 'CHAT_CASE_ID', 'CUST_TYPE_DESC',\n",
       "       'SEG_DESC', 'OFRNG_GRP_DESC', 'EMAIL_SURVEY_FLG', 'ACT_CLOSE_DATE',\n",
       "       'SR_STAT_ID', 'PROD_LN_DESC', 'Warranty_status', 'DELL EMC Segment',\n",
       "       'DELL EMC Segment_v2'],\n",
       "      dtype='object')"
      ]
     },
     "execution_count": 42,
     "metadata": {},
     "output_type": "execute_result"
    }
   ],
   "source": [
    "dfchatdata.columns"
   ]
  },
  {
   "cell_type": "code",
   "execution_count": null,
   "metadata": {
    "colab": {
     "base_uri": "https://localhost:8080/"
    },
    "id": "lpVMWwC3HiHI",
    "outputId": "777881bf-8ecc-47c0-b761-b0a08a3a3f5c"
   },
   "outputs": [
    {
     "data": {
      "text/plain": [
       "array(['Infrastructure Solutions Group', 'Client Basic Support Consumer',\n",
       "       'Commercial Client Services', 'CBS-Commercial',\n",
       "       'Commercial Shared Services', 'Supports Multi Business Units',\n",
       "       'Commercial Enterprise Services',\n",
       "       'Global Relationship Business Organization', 'All Sites'],\n",
       "      dtype=object)"
      ]
     },
     "execution_count": 6,
     "metadata": {},
     "output_type": "execute_result"
    }
   ],
   "source": [
    "dfchatdata['GROUP_NAME'].unique()"
   ]
  },
  {
   "cell_type": "code",
   "execution_count": null,
   "metadata": {
    "id": "aixoLLVt5yyj"
   },
   "outputs": [],
   "source": [
    "##PARSE ALL HTML CONVERSATIONS AND SAVE IT TO ANOTHER CSV FILE\n",
    "\n",
    "# df = pd.read_csv('CTQ1_anonymized.csv')\n",
    "# df2 = pd.read_csv('CTQ2_anonymized.csv')\n",
    "# df3 = pd.read_csv('CTQ3_anonymized.csv')\n",
    "\n",
    "# df = df.dropna()\n",
    "# df2 = df2.dropna()\n",
    "# df3 = df3.dropna()\n",
    "\n",
    "# df['temp'] = df['Chat_Txnsrpt_body'].apply(lambda x: BeautifulSoup(x, 'html.parser').text)\n",
    "# df2['temp'] = df2['Chat_Txnsrpt_body'].apply(lambda x: BeautifulSoup(x, 'html.parser').text)\n",
    "# df3['temp'] = df3['Chat_Txnsrpt_body'].apply(lambda x: BeautifulSoup(x, 'html.parser').text)\n",
    "\n",
    "# df.to_csv(\"CTQ1_anonymized_text.csv\")\n",
    "# df2.to_csv(\"CTQ2_anonymized_text.csv\")\n",
    "# df3.to_csv(\"CTQ3_anonymized_text.csv\")\n"
   ]
  },
  {
   "cell_type": "code",
   "execution_count": null,
   "metadata": {
    "id": "7mI5PILX4ph-"
   },
   "outputs": [],
   "source": [
    "df = pd.read_csv('CTQ1_anonymized_text.csv')\n",
    "df2 = pd.read_csv('CTQ2_anonymized_text.csv')\n",
    "df3 = pd.read_csv('CTQ3_anonymized_text.csv')"
   ]
  },
  {
   "cell_type": "code",
   "execution_count": null,
   "metadata": {
    "id": "7yoaME9Xb6zo"
   },
   "outputs": [],
   "source": [
    "ctq_combined = pd.concat([df,df2,df3])\n",
    "ctq_combined = ctq_combined.drop('Unnamed: 0', axis = 1)"
   ]
  },
  {
   "cell_type": "code",
   "execution_count": null,
   "metadata": {
    "id": "evcT5tKw1NXz"
   },
   "outputs": [],
   "source": [
    "ctq_combined = ctq_combined.drop_duplicates(\"Case_number\")"
   ]
  },
  {
   "cell_type": "code",
   "execution_count": null,
   "metadata": {
    "id": "-qmBKBcPeCea"
   },
   "outputs": [],
   "source": [
    "ctq_combined.columns = ['FISC_QTR_VAL', 'FISC_WEEK_VAL', 'Group_name', 'Region_name',\n",
    "       'Sub_Region_name', 'Case_number', 'Chat_Create_date',\n",
    "       'Chat_Txnsrpt_body', 'Chat_parsed']"
   ]
  },
  {
   "cell_type": "code",
   "execution_count": null,
   "metadata": {
    "id": "r1XIvA66aIzc"
   },
   "outputs": [],
   "source": [
    "#Find all the timestamps within the data and return the last one\n",
    "import re\n",
    "def help_func(x):\n",
    "  if re.findall('[0-9]+m [0-9]+s', x):\n",
    "    obj = datetime.strptime(re.findall('[0-9]+m [0-9]+s', x)[-1], '%Mm %Ss')\n",
    "    return obj.minute * 60 + obj.second\n",
    "  elif re.findall('[0-9]+s', x):\n",
    "    return int(re.findall('[0-9]+s', x)[-1][:-1])\n",
    "  else:\n",
    "    return None"
   ]
  },
  {
   "cell_type": "code",
   "execution_count": null,
   "metadata": {
    "id": "ly2hXBGmOCVz"
   },
   "outputs": [],
   "source": [
    "#Calculate the length of chat\n",
    "ctq_combined['length_of_chat'] = ctq_combined['Chat_parsed'].apply(help_func)"
   ]
  },
  {
   "cell_type": "code",
   "execution_count": null,
   "metadata": {
    "id": "IoQmMZUASmkQ"
   },
   "outputs": [],
   "source": [
    "avg_time = ctq_combined['length_of_chat'].mean()"
   ]
  },
  {
   "cell_type": "code",
   "execution_count": null,
   "metadata": {
    "colab": {
     "base_uri": "https://localhost:8080/"
    },
    "id": "wrEKEZMWogE_",
    "outputId": "a0d3d992-1e28-4810-d7f8-ffd2252972bc"
   },
   "outputs": [
    {
     "data": {
      "text/plain": [
       "733.9252781381452"
      ]
     },
     "execution_count": 14,
     "metadata": {},
     "output_type": "execute_result"
    }
   ],
   "source": [
    "avg_time"
   ]
  },
  {
   "cell_type": "code",
   "execution_count": null,
   "metadata": {
    "id": "aRQ_eYyi6cyO"
   },
   "outputs": [],
   "source": [
    "#Calculate the hour of each chat\n",
    "ctq_combined['time_of_chat'] = ctq_combined['Chat_parsed'].apply(lambda x: re.search('[0-9][0-9]:[0-9][0-9]:[0-9][0-9]', x)[0])\n",
    "ctq_combined['hour_of_chat'] = ctq_combined['time_of_chat'].apply(lambda x: x[:2])"
   ]
  },
  {
   "cell_type": "code",
   "execution_count": null,
   "metadata": {
    "id": "GhtYL5giDGOa"
   },
   "outputs": [],
   "source": [
    "#Find busiest hours when customer service calls are at the peak\n",
    "hour_freq = ctq_combined.groupby('hour_of_chat').count()\n",
    "hour_freq = hour_freq.reset_index()"
   ]
  },
  {
   "cell_type": "code",
   "execution_count": null,
   "metadata": {
    "id": "PTw5U41Dus9E"
   },
   "outputs": [],
   "source": [
    "df_merged = dfchatdata.merge(ctq_combined, left_on='CASE_NBR', right_on='Case_number', how='inner')\n"
   ]
  },
  {
   "cell_type": "markdown",
   "metadata": {},
   "source": [
    "### Average Chat Length by Dell Segment"
   ]
  },
  {
   "cell_type": "code",
   "execution_count": null,
   "metadata": {
    "colab": {
     "base_uri": "https://localhost:8080/",
     "height": 730
    },
    "id": "PuwjYsirETTm",
    "outputId": "13e840f4-67e3-4fce-fb56-f1d61a5a1c64"
   },
   "outputs": [
    {
     "data": {
      "text/plain": [
       "(array([0, 1, 2, 3, 4, 5, 6, 7]), <a list of 8 Text major ticklabel objects>)"
      ]
     },
     "execution_count": 22,
     "metadata": {},
     "output_type": "execute_result"
    },
    {
     "data": {
      "image/png": "[encoded data removed]",
      "text/plain": [
       "<Figure size 1080x576 with 1 Axes>"
      ]
     },
     "metadata": {
      "needs_background": "light"
     },
     "output_type": "display_data"
    }
   ],
   "source": [
    "plt.figure(figsize=(15,8))\n",
    "group_df = pd.DataFrame(df_merged.groupby('GROUP_NAME').mean()['length_of_chat']).reset_index()\n",
    "group_df.columns = ['Group', 'Seconds']\n",
    "sns.barplot(x=\"Group\", y=\"Seconds\", data=group_df).set(title='Average Chat Length by Dell Faction')\n",
    "plt.xticks(rotation = 80)"
   ]
  },
  {
   "cell_type": "code",
   "execution_count": null,
   "metadata": {
    "colab": {
     "base_uri": "https://localhost:8080/"
    },
    "id": "QMN-5tE4jamt",
    "outputId": "b4a53687-10f6-4a39-9e72-1f4562d1d846"
   },
   "outputs": [
    {
     "data": {
      "text/plain": [
       "India          244358\n",
       "OK             131395\n",
       "Panama          76772\n",
       "TX              42035\n",
       "Philippines     30798\n",
       "Costa Rica      11563\n",
       "Name: LOCATION_REGION, dtype: int64"
      ]
     },
     "execution_count": 24,
     "metadata": {},
     "output_type": "execute_result"
    }
   ],
   "source": [
    "df_merged['LOCATION_REGION'] = df_merged['LOCATION_NAME'].apply(lambda x : x.split(\", \")[-1])\n",
    "df_merged['LOCATION_REGION'].value_counts()"
   ]
  },
  {
   "cell_type": "markdown",
   "metadata": {},
   "source": [
    "### Chat Frequency by Location"
   ]
  },
  {
   "cell_type": "code",
   "execution_count": null,
   "metadata": {
    "colab": {
     "base_uri": "https://localhost:8080/",
     "height": 313
    },
    "id": "cu2D5nQ8_QOX",
    "outputId": "169e21bd-5d89-4e0f-ffce-5821acc0d21f"
   },
   "outputs": [
    {
     "data": {
      "text/plain": [
       "[Text(0.5, 1.0, 'Chat Frequency by Agent Location')]"
      ]
     },
     "execution_count": 25,
     "metadata": {},
     "output_type": "execute_result"
    },
    {
     "data": {
      "image/png": "[encoded data removed]",
      "text/plain": [
       "<Figure size 432x288 with 1 Axes>"
      ]
     },
     "metadata": {
      "needs_background": "light"
     },
     "output_type": "display_data"
    }
   ],
   "source": [
    "location_df = pd.DataFrame(df_merged['LOCATION_REGION'].value_counts()).reset_index()\n",
    "location_df.columns = ['Region', 'Frequency']\n",
    "sns.barplot(x=\"Region\", y=\"Frequency\", data=location_df).set(title='Chat Frequency by Agent Location')"
   ]
  },
  {
   "cell_type": "code",
   "execution_count": null,
   "metadata": {
    "colab": {
     "base_uri": "https://localhost:8080/"
    },
    "id": "Etu-mKSZ2XkL",
    "outputId": "4baa4f0d-c69b-40ee-83a4-282035387871"
   },
   "outputs": [
    {
     "data": {
      "text/plain": [
       "Oklahoma City, OK              131395\n",
       "Pune, India                    124949\n",
       "Panama City, Panama             76772\n",
       "Hyderabad, India                66763\n",
       "Delhi, India                    51782\n",
       "Round Rock, TX                  42035\n",
       "Clark Air Base, Philippines     30726\n",
       "San Jose, Costa Rica            11563\n",
       "Bangalore, India                  676\n",
       "India, India                       97\n",
       "Gurgaon, India                     91\n",
       "Alabang, Philippines               72\n",
       "Name: LOCATION_NAME, dtype: int64"
      ]
     },
     "execution_count": 26,
     "metadata": {},
     "output_type": "execute_result"
    }
   ],
   "source": [
    "df_merged['LOCATION_NAME'].value_counts()"
   ]
  },
  {
   "cell_type": "code",
   "execution_count": null,
   "metadata": {
    "id": "UbnuHqjqkQDy"
   },
   "outputs": [],
   "source": [
    "#Calculate hour frequencies for India and US\n",
    "df_india = df_merged[df_merged['LOCATION_REGION'] == 'India']\n",
    "df_us = df_merged[(df_merged['LOCATION_REGION'] == 'OK') | (df_merged['LOCATION_REGION'] == 'TX')]"
   ]
  },
  {
   "cell_type": "code",
   "execution_count": null,
   "metadata": {
    "id": "lsoq_q6_krVx"
   },
   "outputs": [],
   "source": [
    "hour_freq_india = df_india.groupby('hour_of_chat').count()\n",
    "hour_freq_us = df_us.groupby('hour_of_chat').count()"
   ]
  },
  {
   "cell_type": "code",
   "execution_count": null,
   "metadata": {
    "id": "TllEJkBXlEer"
   },
   "outputs": [],
   "source": [
    "hour_freq_india = hour_freq_india.reset_index()\n",
    "hour_freq_us = hour_freq_us.reset_index()"
   ]
  },
  {
   "cell_type": "markdown",
   "metadata": {},
   "source": [
    "### Busiest hours in India for tech support"
   ]
  },
  {
   "cell_type": "code",
   "execution_count": null,
   "metadata": {
    "colab": {
     "base_uri": "https://localhost:8080/",
     "height": 333
    },
    "id": "eP0GM9lhlMO7",
    "outputId": "8141a666-8bf6-4770-8185-de0d710265a2"
   },
   "outputs": [
    {
     "data": {
      "text/plain": [
       "[Text(0, 0.5, 'Frequency'),\n",
       " Text(0.5, 1.0, 'Customer Support Traffic in India by Hour')]"
      ]
     },
     "execution_count": 30,
     "metadata": {},
     "output_type": "execute_result"
    },
    {
     "data": {
      "image/png": "[encoded data removed]",
      "text/plain": [
       "<Figure size 432x288 with 1 Axes>"
      ]
     },
     "metadata": {
      "needs_background": "light"
     },
     "output_type": "display_data"
    }
   ],
   "source": [
    "plot1 = sns.barplot(x=\"hour_of_chat\", y=\"time_of_chat\", data=hour_freq_india)\n",
    "plot1.set(title='Customer Support Traffic in India by Hour', ylabel=\"Frequency\")"
   ]
  },
  {
   "cell_type": "markdown",
   "metadata": {},
   "source": [
    "### Busiest hours in US for tech support"
   ]
  },
  {
   "cell_type": "code",
   "execution_count": null,
   "metadata": {
    "colab": {
     "base_uri": "https://localhost:8080/",
     "height": 333
    },
    "id": "UrxtDe37lWYb",
    "outputId": "00aa8fb1-b629-4313-a4fe-fcc663f1ead1"
   },
   "outputs": [
    {
     "data": {
      "text/plain": [
       "[Text(0, 0.5, 'Frequency'),\n",
       " Text(0.5, 1.0, 'Customer Support Traffic in US by Hour')]"
      ]
     },
     "execution_count": 31,
     "metadata": {},
     "output_type": "execute_result"
    },
    {
     "data": {
      "image/png": "[encoded data removed]",
      "text/plain": [
       "<Figure size 432x288 with 1 Axes>"
      ]
     },
     "metadata": {
      "needs_background": "light"
     },
     "output_type": "display_data"
    }
   ],
   "source": [
    "plot2 = sns.barplot(x=\"hour_of_chat\", y=\"time_of_chat\", data=hour_freq_us)\n",
    "plot2.set(title='Customer Support Traffic in US by Hour', ylabel=\"Frequency\")"
   ]
  },
  {
   "cell_type": "markdown",
   "metadata": {},
   "source": [
    "## Preprocess chats\n",
    "\n",
    "#### Using the assumption that conversations are initiated by agents. Chats then have alternating messages from customer and agent"
   ]
  },
  {
   "cell_type": "code",
   "execution_count": null,
   "metadata": {
    "colab": {
     "base_uri": "https://localhost:8080/",
     "height": 183
    },
    "id": "6zoVoWbFYxG9",
    "outputId": "f9c467ef-fc2f-4f91-c949-e243878a24b0"
   },
   "outputs": [
    {
     "data": {
      "application/vnd.google.colaboratory.intrinsic+json": {
       "type": "string"
      },
      "text/plain": [
       "\"Chat NAME: {{NAME}}, {{NAME}} 04, 2020, 12:59:24 (-0800)Chat NAME: NA.TS.CLI.CHAT.EN.CORE.COM.OPTLATAgent {{NAME}} V( 42s ) {{NAME}} NAME: Thank you for contacting {{NAME}} {{NAME}} {{NAME}}. My Name is {{NAME}}. Please give me a moment while I review your case details. ( 1m 10s ) {{NAME}} NAME: Hello {{NAME}}, How are you doing today? ( 1m 21s ) {{NAME}}: I'm well thank you. ( 1m 38s ) {{NAME}} NAME: Glad to hear :) ( 1m 54s ) {{NAME}} NAME: I see that you are experiencing issue with your system as its {{NAME}} is failed, right? ( 3m 42s ) {{NAME}}: correct. ( 4m 44s ) {{NAME}} NAME: I apologize for any inconvenience this may have caused you. ( 4m 48s ) {{NAME}} NAME: As we are connected, I am going to take care of this issue and will make every effort that is possible from my end to fix this issue to your satisfaction ( 5m 4s ) {{NAME}} NAME: Can you confirm that the system you need support with is SERVICETAGE 7480, with {{NAME}} {{NAME}} : SERVICETAG? ( 6m 16s ) {{NAME}}: Thank you. Yes that information and service tag is correct. ( 6m 55s ) {{NAME}} NAME: Thank you for your confirmation. Your system still has an active {{NAME}} {{NAME}} valid until XX/XX/XXXX. ( 6m 59s ) {{NAME}} NAME: If we get disconnected from this chat, can I reach you at {{PHONE}} or email you at {{EMAIL}}? ( 7m 18s ) {{NAME}}: yes that is my correct contact info. ( 8m 1s ) {{NAME}} NAME: Could you confirm the best time to reach you along with your time zone? ( 8m 22s ) {{NAME}}: 8am-5pm {{NAME}} ( 8m 46s ) {{NAME}} NAME: Thanks for all the info.We should be done in about 14-15 minutes. ( 9m 0s ) {{NAME}} NAME: Please tell me if you've performed any additional steps on your own apart from EPSA test. So that we may skip those and save some time & trouble. ( 9m 36s ) {{NAME}}: I have not do you need the bios revision? ( 10m 13s ) {{NAME}} NAME: Let me quickly see what steps we can perform. ( 10m 40s ) {{NAME}}: bios version is 1.16.1 ( 11m 29s ) {{NAME}}: my user reported fan error message\""
      ]
     },
     "execution_count": 32,
     "metadata": {},
     "output_type": "execute_result"
    }
   ],
   "source": [
    "ctq_combined.iloc[0]['Chat_parsed']"
   ]
  },
  {
   "cell_type": "code",
   "execution_count": null,
   "metadata": {
    "colab": {
     "base_uri": "https://localhost:8080/",
     "height": 1000
    },
    "id": "bYD8sDHqTaLR",
    "outputId": "4816bbff-afa9-4631-e1e9-3b4adb4cc3fa"
   },
   "outputs": [
    {
     "data": {
      "text/html": [
       "\n",
       "  <div id=\"df-719ef746-1cb1-431c-a4fd-239adff0076a\">\n",
       "    <div class=\"colab-df-container\">\n",
       "      <div>\n",
       "<style scoped>\n",
       "    .dataframe tbody tr th:only-of-type {\n",
       "        vertical-align: middle;\n",
       "    }\n",
       "\n",
       "    .dataframe tbody tr th {\n",
       "        vertical-align: top;\n",
       "    }\n",
       "\n",
       "    .dataframe thead th {\n",
       "        text-align: right;\n",
       "    }\n",
       "</style>\n",
       "<table border=\"1\" class=\"dataframe\">\n",
       "  <thead>\n",
       "    <tr style=\"text-align: right;\">\n",
       "      <th></th>\n",
       "      <th>FISC_QTR_VAL</th>\n",
       "      <th>FISC_WEEK_VAL</th>\n",
       "      <th>Group_name</th>\n",
       "      <th>Region_name</th>\n",
       "      <th>Sub_Region_name</th>\n",
       "      <th>Case_number</th>\n",
       "      <th>Chat_Create_date</th>\n",
       "      <th>Chat_Txnsrpt_body</th>\n",
       "      <th>Chat_parsed</th>\n",
       "      <th>length_of_chat</th>\n",
       "      <th>time_of_chat</th>\n",
       "      <th>hour_of_chat</th>\n",
       "    </tr>\n",
       "  </thead>\n",
       "  <tbody>\n",
       "    <tr>\n",
       "      <th>0</th>\n",
       "      <td>2021-Q1</td>\n",
       "      <td>2021-W01</td>\n",
       "      <td>CBS-Commercial</td>\n",
       "      <td>AMERICAS</td>\n",
       "      <td>United States</td>\n",
       "      <td>49861514.0</td>\n",
       "      <td>2/4/2020 20:58</td>\n",
       "      <td>&lt;p align=center&gt;Chat NAME: {{NAME}}, {{NAME}} ...</td>\n",
       "      <td>Chat NAME: {{NAME}}, {{NAME}} 04, 2020, 12:59:...</td>\n",
       "      <td>689.0</td>\n",
       "      <td>12:59:24</td>\n",
       "      <td>12</td>\n",
       "    </tr>\n",
       "    <tr>\n",
       "      <th>1</th>\n",
       "      <td>2021-Q1</td>\n",
       "      <td>2021-W01</td>\n",
       "      <td>CBS-Commercial</td>\n",
       "      <td>AMERICAS</td>\n",
       "      <td>United States</td>\n",
       "      <td>49771157.0</td>\n",
       "      <td>2/3/2020 21:24</td>\n",
       "      <td>&lt;p align=center&gt;Chat NAME: {{NAME}}, {{NAME}} ...</td>\n",
       "      <td>Chat NAME: {{NAME}}, {{NAME}} 04, 2020, 02:55:...</td>\n",
       "      <td>450.0</td>\n",
       "      <td>02:55:03</td>\n",
       "      <td>02</td>\n",
       "    </tr>\n",
       "    <tr>\n",
       "      <th>2</th>\n",
       "      <td>2021-Q1</td>\n",
       "      <td>2021-W01</td>\n",
       "      <td>CBS-Commercial</td>\n",
       "      <td>AMERICAS</td>\n",
       "      <td>United States</td>\n",
       "      <td>49769079.0</td>\n",
       "      <td>2/3/2020 20:50</td>\n",
       "      <td>&lt;p align=center&gt;Chat NAME: {{NAME}}, {{NAME}} ...</td>\n",
       "      <td>Chat NAME: {{NAME}}, {{NAME}} 04, 2020, 02:21:...</td>\n",
       "      <td>1134.0</td>\n",
       "      <td>02:21:08</td>\n",
       "      <td>02</td>\n",
       "    </tr>\n",
       "    <tr>\n",
       "      <th>3</th>\n",
       "      <td>2021-Q1</td>\n",
       "      <td>2021-W01</td>\n",
       "      <td>CBS-Commercial</td>\n",
       "      <td>AMERICAS</td>\n",
       "      <td>United States</td>\n",
       "      <td>49687660.0</td>\n",
       "      <td>2/3/2020 1:27</td>\n",
       "      <td>&lt;p align=center&gt;Chat NAME: {{NAME}}, {{NAME}} ...</td>\n",
       "      <td>Chat NAME: {{NAME}}, {{NAME}} 03, 2020, 06:57:...</td>\n",
       "      <td>478.0</td>\n",
       "      <td>06:57:20</td>\n",
       "      <td>06</td>\n",
       "    </tr>\n",
       "    <tr>\n",
       "      <th>4</th>\n",
       "      <td>2021-Q1</td>\n",
       "      <td>2021-W01</td>\n",
       "      <td>CBS-Commercial</td>\n",
       "      <td>AMERICAS</td>\n",
       "      <td>United States</td>\n",
       "      <td>50007941.0</td>\n",
       "      <td>2/6/2020 13:59</td>\n",
       "      <td>&lt;p align=center&gt;Chat NAME: {{NAME}}, {{NAME}} ...</td>\n",
       "      <td>Chat NAME: {{NAME}}, {{NAME}} 06, 2020, 22:00:...</td>\n",
       "      <td>473.0</td>\n",
       "      <td>22:00:04</td>\n",
       "      <td>22</td>\n",
       "    </tr>\n",
       "    <tr>\n",
       "      <th>...</th>\n",
       "      <td>...</td>\n",
       "      <td>...</td>\n",
       "      <td>...</td>\n",
       "      <td>...</td>\n",
       "      <td>...</td>\n",
       "      <td>...</td>\n",
       "      <td>...</td>\n",
       "      <td>...</td>\n",
       "      <td>...</td>\n",
       "      <td>...</td>\n",
       "      <td>...</td>\n",
       "      <td>...</td>\n",
       "    </tr>\n",
       "    <tr>\n",
       "      <th>419371</th>\n",
       "      <td>2021-Q3</td>\n",
       "      <td>2021-W39</td>\n",
       "      <td>Commercial Client Services</td>\n",
       "      <td>AMERICAS</td>\n",
       "      <td>United States</td>\n",
       "      <td>84067197.0</td>\n",
       "      <td>10/28/2020 13:15</td>\n",
       "      <td>&lt;p align=center&gt;{{NAME}} NAME: {{NAME}}, {{NAM...</td>\n",
       "      <td>{{NAME}} NAME: {{NAME}}, {{NAME}} 28, 2020, 08...</td>\n",
       "      <td>509.0</td>\n",
       "      <td>08:15:45</td>\n",
       "      <td>08</td>\n",
       "    </tr>\n",
       "    <tr>\n",
       "      <th>419372</th>\n",
       "      <td>2021-Q3</td>\n",
       "      <td>2021-W39</td>\n",
       "      <td>Commercial Client Services</td>\n",
       "      <td>AMERICAS</td>\n",
       "      <td>United States</td>\n",
       "      <td>83763479.0</td>\n",
       "      <td>12/14/2020 23:17</td>\n",
       "      <td>&lt;p align=center&gt;Chat NAME: {{NAME}}, {{NAME}} ...</td>\n",
       "      <td>Chat NAME: {{NAME}}, {{NAME}} 14, 2020, 17:17:...</td>\n",
       "      <td>249.0</td>\n",
       "      <td>17:17:42</td>\n",
       "      <td>17</td>\n",
       "    </tr>\n",
       "    <tr>\n",
       "      <th>419374</th>\n",
       "      <td>2021-Q3</td>\n",
       "      <td>2021-W39</td>\n",
       "      <td>Commercial Client Services</td>\n",
       "      <td>AMERICAS</td>\n",
       "      <td>United States</td>\n",
       "      <td>83848402.0</td>\n",
       "      <td>10/26/2020 15:35</td>\n",
       "      <td>&lt;p align=center&gt;{{NAME}} NAME: {{NAME}}, {{NAM...</td>\n",
       "      <td>{{NAME}} NAME: {{NAME}}, {{NAME}} 26, 2020, 10...</td>\n",
       "      <td>888.0</td>\n",
       "      <td>10:39:35</td>\n",
       "      <td>10</td>\n",
       "    </tr>\n",
       "    <tr>\n",
       "      <th>419377</th>\n",
       "      <td>2021-Q3</td>\n",
       "      <td>2021-W39</td>\n",
       "      <td>Commercial Client Services</td>\n",
       "      <td>AMERICAS</td>\n",
       "      <td>United States</td>\n",
       "      <td>84288769.0</td>\n",
       "      <td>10/30/2020 15:03</td>\n",
       "      <td>&lt;p align=center&gt;{{NAME}} NAME: {{NAME}}, {{NAM...</td>\n",
       "      <td>{{NAME}} NAME: {{NAME}}, {{NAME}} 30, 2020, 10...</td>\n",
       "      <td>1398.0</td>\n",
       "      <td>10:04:52</td>\n",
       "      <td>10</td>\n",
       "    </tr>\n",
       "    <tr>\n",
       "      <th>419378</th>\n",
       "      <td>2021-Q3</td>\n",
       "      <td>2021-W39</td>\n",
       "      <td>Commercial Client Services</td>\n",
       "      <td>AMERICAS</td>\n",
       "      <td>United States</td>\n",
       "      <td>84308649.0</td>\n",
       "      <td>10/30/2020 19:21</td>\n",
       "      <td>&lt;p align=center&gt;Chat NAME: {{NAME}}, {{NAME}} ...</td>\n",
       "      <td>Chat NAME: {{NAME}}, {{NAME}} 30, 2020, 14:22:...</td>\n",
       "      <td>397.0</td>\n",
       "      <td>14:22:04</td>\n",
       "      <td>14</td>\n",
       "    </tr>\n",
       "  </tbody>\n",
       "</table>\n",
       "<p>764137 rows × 12 columns</p>\n",
       "</div>\n",
       "      <button class=\"colab-df-convert\" onclick=\"convertToInteractive('df-719ef746-1cb1-431c-a4fd-239adff0076a')\"\n",
       "              title=\"Convert this dataframe to an interactive table.\"\n",
       "              style=\"display:none;\">\n",
       "        \n",
       "  <svg xmlns=\"http://www.w3.org/2000/svg\" height=\"24px\"viewBox=\"0 0 24 24\"\n",
       "       width=\"24px\">\n",
       "    <path d=\"M0 0h24v24H0V0z\" fill=\"none\"/>\n",
       "    <path d=\"M18.56 5.44l.94 2.06.94-2.06 2.06-.94-2.06-.94-.94-2.06-.94 2.06-2.06.94zm-11 1L8.5 8.5l.94-2.06 2.06-.94-2.06-.94L8.5 2.5l-.94 2.06-2.06.94zm10 10l.94 2.06.94-2.06 2.06-.94-2.06-.94-.94-2.06-.94 2.06-2.06.94z\"/><path d=\"M17.41 7.96l-1.37-1.37c-.4-.4-.92-.59-1.43-.59-.52 0-1.04.2-1.43.59L10.3 9.45l-7.72 7.72c-.78.78-.78 2.05 0 2.83L4 21.41c.39.39.9.59 1.41.59.51 0 1.02-.2 1.41-.59l7.78-7.78 2.81-2.81c.8-.78.8-2.07 0-2.86zM5.41 20L4 18.59l7.72-7.72 1.47 1.35L5.41 20z\"/>\n",
       "  </svg>\n",
       "      </button>\n",
       "      \n",
       "  <style>\n",
       "    .colab-df-container {\n",
       "      display:flex;\n",
       "      flex-wrap:wrap;\n",
       "      gap: 12px;\n",
       "    }\n",
       "\n",
       "    .colab-df-convert {\n",
       "      background-color: #E8F0FE;\n",
       "      border: none;\n",
       "      border-radius: 50%;\n",
       "      cursor: pointer;\n",
       "      display: none;\n",
       "      fill: #1967D2;\n",
       "      height: 32px;\n",
       "      padding: 0 0 0 0;\n",
       "      width: 32px;\n",
       "    }\n",
       "\n",
       "    .colab-df-convert:hover {\n",
       "      background-color: #E2EBFA;\n",
       "      box-shadow: 0px 1px 2px rgba(60, 64, 67, 0.3), 0px 1px 3px 1px rgba(60, 64, 67, 0.15);\n",
       "      fill: #174EA6;\n",
       "    }\n",
       "\n",
       "    [theme=dark] .colab-df-convert {\n",
       "      background-color: #3B4455;\n",
       "      fill: #D2E3FC;\n",
       "    }\n",
       "\n",
       "    [theme=dark] .colab-df-convert:hover {\n",
       "      background-color: #434B5C;\n",
       "      box-shadow: 0px 1px 3px 1px rgba(0, 0, 0, 0.15);\n",
       "      filter: drop-shadow(0px 1px 2px rgba(0, 0, 0, 0.3));\n",
       "      fill: #FFFFFF;\n",
       "    }\n",
       "  </style>\n",
       "\n",
       "      <script>\n",
       "        const buttonEl =\n",
       "          document.querySelector('#df-719ef746-1cb1-431c-a4fd-239adff0076a button.colab-df-convert');\n",
       "        buttonEl.style.display =\n",
       "          google.colab.kernel.accessAllowed ? 'block' : 'none';\n",
       "\n",
       "        async function convertToInteractive(key) {\n",
       "          const element = document.querySelector('#df-719ef746-1cb1-431c-a4fd-239adff0076a');\n",
       "          const dataTable =\n",
       "            await google.colab.kernel.invokeFunction('convertToInteractive',\n",
       "                                                     [key], {});\n",
       "          if (!dataTable) return;\n",
       "\n",
       "          const docLinkHtml = 'Like what you see? Visit the ' +\n",
       "            '<a target=\"_blank\" href=https://colab.research.google.com/notebooks/data_table.ipynb>data table notebook</a>'\n",
       "            + ' to learn more about interactive tables.';\n",
       "          element.innerHTML = '';\n",
       "          dataTable['output_type'] = 'display_data';\n",
       "          await google.colab.output.renderOutput(dataTable, element);\n",
       "          const docLink = document.createElement('div');\n",
       "          docLink.innerHTML = docLinkHtml;\n",
       "          element.appendChild(docLink);\n",
       "        }\n",
       "      </script>\n",
       "    </div>\n",
       "  </div>\n",
       "  "
      ],
      "text/plain": [
       "       FISC_QTR_VAL FISC_WEEK_VAL                  Group_name Region_name  \\\n",
       "0           2021-Q1      2021-W01              CBS-Commercial    AMERICAS   \n",
       "1           2021-Q1      2021-W01              CBS-Commercial    AMERICAS   \n",
       "2           2021-Q1      2021-W01              CBS-Commercial    AMERICAS   \n",
       "3           2021-Q1      2021-W01              CBS-Commercial    AMERICAS   \n",
       "4           2021-Q1      2021-W01              CBS-Commercial    AMERICAS   \n",
       "...             ...           ...                         ...         ...   \n",
       "419371      2021-Q3      2021-W39  Commercial Client Services    AMERICAS   \n",
       "419372      2021-Q3      2021-W39  Commercial Client Services    AMERICAS   \n",
       "419374      2021-Q3      2021-W39  Commercial Client Services    AMERICAS   \n",
       "419377      2021-Q3      2021-W39  Commercial Client Services    AMERICAS   \n",
       "419378      2021-Q3      2021-W39  Commercial Client Services    AMERICAS   \n",
       "\n",
       "       Sub_Region_name  Case_number  Chat_Create_date  \\\n",
       "0        United States   49861514.0    2/4/2020 20:58   \n",
       "1        United States   49771157.0    2/3/2020 21:24   \n",
       "2        United States   49769079.0    2/3/2020 20:50   \n",
       "3        United States   49687660.0     2/3/2020 1:27   \n",
       "4        United States   50007941.0    2/6/2020 13:59   \n",
       "...                ...          ...               ...   \n",
       "419371   United States   84067197.0  10/28/2020 13:15   \n",
       "419372   United States   83763479.0  12/14/2020 23:17   \n",
       "419374   United States   83848402.0  10/26/2020 15:35   \n",
       "419377   United States   84288769.0  10/30/2020 15:03   \n",
       "419378   United States   84308649.0  10/30/2020 19:21   \n",
       "\n",
       "                                        Chat_Txnsrpt_body  \\\n",
       "0       <p align=center>Chat NAME: {{NAME}}, {{NAME}} ...   \n",
       "1       <p align=center>Chat NAME: {{NAME}}, {{NAME}} ...   \n",
       "2       <p align=center>Chat NAME: {{NAME}}, {{NAME}} ...   \n",
       "3       <p align=center>Chat NAME: {{NAME}}, {{NAME}} ...   \n",
       "4       <p align=center>Chat NAME: {{NAME}}, {{NAME}} ...   \n",
       "...                                                   ...   \n",
       "419371  <p align=center>{{NAME}} NAME: {{NAME}}, {{NAM...   \n",
       "419372  <p align=center>Chat NAME: {{NAME}}, {{NAME}} ...   \n",
       "419374  <p align=center>{{NAME}} NAME: {{NAME}}, {{NAM...   \n",
       "419377  <p align=center>{{NAME}} NAME: {{NAME}}, {{NAM...   \n",
       "419378  <p align=center>Chat NAME: {{NAME}}, {{NAME}} ...   \n",
       "\n",
       "                                              Chat_parsed  length_of_chat  \\\n",
       "0       Chat NAME: {{NAME}}, {{NAME}} 04, 2020, 12:59:...           689.0   \n",
       "1       Chat NAME: {{NAME}}, {{NAME}} 04, 2020, 02:55:...           450.0   \n",
       "2       Chat NAME: {{NAME}}, {{NAME}} 04, 2020, 02:21:...          1134.0   \n",
       "3       Chat NAME: {{NAME}}, {{NAME}} 03, 2020, 06:57:...           478.0   \n",
       "4       Chat NAME: {{NAME}}, {{NAME}} 06, 2020, 22:00:...           473.0   \n",
       "...                                                   ...             ...   \n",
       "419371  {{NAME}} NAME: {{NAME}}, {{NAME}} 28, 2020, 08...           509.0   \n",
       "419372  Chat NAME: {{NAME}}, {{NAME}} 14, 2020, 17:17:...           249.0   \n",
       "419374  {{NAME}} NAME: {{NAME}}, {{NAME}} 26, 2020, 10...           888.0   \n",
       "419377  {{NAME}} NAME: {{NAME}}, {{NAME}} 30, 2020, 10...          1398.0   \n",
       "419378  Chat NAME: {{NAME}}, {{NAME}} 30, 2020, 14:22:...           397.0   \n",
       "\n",
       "       time_of_chat hour_of_chat  \n",
       "0          12:59:24           12  \n",
       "1          02:55:03           02  \n",
       "2          02:21:08           02  \n",
       "3          06:57:20           06  \n",
       "4          22:00:04           22  \n",
       "...             ...          ...  \n",
       "419371     08:15:45           08  \n",
       "419372     17:17:42           17  \n",
       "419374     10:39:35           10  \n",
       "419377     10:04:52           10  \n",
       "419378     14:22:04           14  \n",
       "\n",
       "[764137 rows x 12 columns]"
      ]
     },
     "execution_count": 33,
     "metadata": {},
     "output_type": "execute_result"
    }
   ],
   "source": [
    "ctq_combined"
   ]
  },
  {
   "cell_type": "code",
   "execution_count": null,
   "metadata": {
    "id": "LE_ILZAo5S8z"
   },
   "outputs": [],
   "source": [
    "# ctq_combined['Agent Sentences'] = ctq_combined['Chat_parsed'].apply(lambda x : x.replace(\"{{NAME}}\", \"\").split(\"NAME:\")[::2][1:])\n",
    "# ctq_combined['Customer Sentences'] = ctq_combined['Chat_parsed'].apply(lambda x : x.replace(\"{{NAME}}\", \"\").split(\"NAME:\")[1::2][1:])\n",
    "\n",
    "# # ctq_combined.iloc[0]['Chat_parsed'].replace(\"{{NAME}}\", \"\").split(\"NAME:\")[::2]"
   ]
  },
  {
   "cell_type": "code",
   "execution_count": null,
   "metadata": {
    "colab": {
     "base_uri": "https://localhost:8080/"
    },
    "id": "VLnILg3iUprA",
    "outputId": "0721423c-7693-4ae8-b5b2-01a692efea34"
   },
   "outputs": [
    {
     "data": {
      "text/plain": [
       "Response_Date                  477645\n",
       "INVTN_DT                       477645\n",
       "Chat_CRT_DT                         0\n",
       "Response_ID                    477645\n",
       "Response count                 477645\n",
       "CHAT survey RESPONSE COUNT          0\n",
       "CHAT SURVEY COMPLETED COUNT         0\n",
       "Response_Status                477645\n",
       "Survey_ID                      477645\n",
       "CUST_BU_ID                      53769\n",
       "CASE_NBR                            0\n",
       "QUICK_CALL_FLG                      0\n",
       "FDBK_TKN_COUNT                      0\n",
       "FDBK_TAKEN_FLG                      0\n",
       "Chat_Queue_Name                     0\n",
       "Chat sessions count                 0\n",
       "Chat_Issue_Desc                477650\n",
       "CSAT count                          0\n",
       "DSAT count                          0\n",
       "NSAT count                          0\n",
       "Chat_Satisfaction_Score        482346\n",
       "Verbatim count                      0\n",
       "General_Feedback               507664\n",
       "Was_Issue_Resolved             482190\n",
       "Issue_Not_Resolved_Reason      531591\n",
       "FISCAL_WEEK                         0\n",
       "FISCAL_QUARTER                      0\n",
       "FISCAL_YEAR                         0\n",
       "FISCAL_MONTH                        0\n",
       "REGION_NAME                         0\n",
       "SUB_REGION_NAME                     0\n",
       "GROUP_NAME                          0\n",
       "SUB_GROUP_NAME                      0\n",
       "PARTNER_NAME                        0\n",
       "LOCATION_NAME                       0\n",
       "DEPARTMENT_NAME                     0\n",
       "FUNCTION_NAME                       0\n",
       "TEAM_NAME                           0\n",
       "QUEUE_NAME                          0\n",
       "CATEGORY_NAME                       0\n",
       "CONTACT_METHOD_NAME                 0\n",
       "PROD_GRP_DESC                    1779\n",
       "PROD_TYPE_DESC                   1779\n",
       "POH_PROD_TYPE_DESC              69471\n",
       "PRMIM_CD                        69471\n",
       "Warranty_Type_Epi                   0\n",
       "Warranty Category Epi               0\n",
       "CSG_ISG - EPI - FLAG                0\n",
       "DELTA_SR_NBR                      700\n",
       "dps_count                      200944\n",
       "dtype: int64"
      ]
     },
     "execution_count": 37,
     "metadata": {},
     "output_type": "execute_result"
    }
   ],
   "source": [
    "df_merged.isna().sum().head(50)"
   ]
  },
  {
   "cell_type": "code",
   "execution_count": null,
   "metadata": {
    "id": "698xyHZM9TBQ"
   },
   "outputs": [],
   "source": [
    "#Function to replace filler text and seperate chats based on timestamp (assumption)\n",
    "def cleanChats(x):\n",
    "  chat = x.replace(\"{{NAME}}\", \"\").replace(\"NAME\", \"\")\n",
    "  # re.findall('?(1)\\( [0-9]*m* [0-9]+s \\)|\\( [0-9]*m*[0-9]+s \\)', chat)\n",
    "  splits = re.split('\\( [0-9]*m* [0-9]+s \\)', chat)\n",
    "  split_first = splits[0]\n",
    "  early_chats = re.split('\\( [0-9]+s \\)', split_first)\n",
    "  early_chats.extend(splits[1:])\n",
    "  return early_chats\n",
    "cleaned_chats = ctq_combined['Chat_parsed'].apply(lambda x : cleanChats(x))\n"
   ]
  },
  {
   "cell_type": "code",
   "execution_count": null,
   "metadata": {
    "colab": {
     "base_uri": "https://localhost:8080/"
    },
    "id": "b3O03_5_OiHJ",
    "outputId": "0753903a-b893-4355-e53d-ecae585a6f09"
   },
   "outputs": [
    {
     "data": {
      "text/plain": [
       "['Chat : ,  04, 2020, 12:59:24 (-0800)Chat : NA.TS.CLI.CHAT.EN.CORE.COM.OPTLATAgent  V',\n",
       " '  : Thank you for contacting   . My Name is . Please give me a moment while I review your case details. ',\n",
       " '  : Hello , How are you doing today? ',\n",
       " \" : I'm well thank you. \",\n",
       " '  : Glad to hear :) ',\n",
       " '  : I see that you are experiencing issue with your system as its  is failed, right? ',\n",
       " ' : correct. ',\n",
       " '  : I apologize for any inconvenience this may have caused you. ',\n",
       " '  : As we are connected, I am going to take care of this issue and will make every effort that is possible from my end to fix this issue to your satisfaction ',\n",
       " '  : Can you confirm that the system you need support with is SERVICETAGE 7480, with   : SERVICETAG? ',\n",
       " ' : Thank you. Yes that information and service tag is correct. ',\n",
       " '  : Thank you for your confirmation. Your system still has an active   valid until XX/XX/XXXX. ',\n",
       " '  : If we get disconnected from this chat, can I reach you at {{PHONE}} or email you at {{EMAIL}}? ',\n",
       " ' : yes that is my correct contact info. ',\n",
       " '  : Could you confirm the best time to reach you along with your time zone? ',\n",
       " ' : 8am-5pm  ',\n",
       " '  : Thanks for all the info.We should be done in about 14-15 minutes. ',\n",
       " \"  : Please tell me if you've performed any additional steps on your own apart from EPSA test. So that we may skip those and save some time & trouble. \",\n",
       " ' : I have not do you need the bios revision? ',\n",
       " '  : Let me quickly see what steps we can perform. ',\n",
       " ' : bios version is 1.16.1 ',\n",
       " ' : my user reported fan error message']"
      ]
     },
     "execution_count": 38,
     "metadata": {},
     "output_type": "execute_result"
    }
   ],
   "source": [
    "cleaned_chats.iloc[0]"
   ]
  },
  {
   "cell_type": "code",
   "execution_count": null,
   "metadata": {
    "id": "pkK0sE7a88wb"
   },
   "outputs": [],
   "source": [
    "#Split based on alternating sentences, and keep original chat intact\n",
    "ctq_combined['Agent Sentences'] = cleaned_chats.apply(lambda x: x[1::2])\n",
    "ctq_combined['Customer Sentences'] = cleaned_chats.apply(lambda x: x[2::2])\n",
    "ctq_combined['Combined Sentences'] = cleaned_chats.apply(lambda x: x[1:])"
   ]
  },
  {
   "cell_type": "code",
   "execution_count": null,
   "metadata": {
    "id": "XswE3bB6O6zG"
   },
   "outputs": [],
   "source": [
    "ctq_combined.to_csv(\"ctq_with_sentences.csv\")"
   ]
  }
 ],
 "metadata": {
  "accelerator": "GPU",
  "colab": {
   "collapsed_sections": [],
   "name": "Copy of Dell_Capstone.ipynb",
   "provenance": []
  },
  "kernelspec": {
   "display_name": "Python 3 (ipykernel)",
   "language": "python",
   "name": "python3"
  },
  "language_info": {
   "codemirror_mode": {
    "name": "ipython",
    "version": 3
   },
   "file_extension": ".py",
   "mimetype": "text/x-python",
   "name": "python",
   "nbconvert_exporter": "python",
   "pygments_lexer": "ipython3",
   "version": "3.7.3"
  }
 },
 "nbformat": 4,
 "nbformat_minor": 1
}
