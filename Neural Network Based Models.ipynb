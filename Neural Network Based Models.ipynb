{
 "cells": [
  {
   "cell_type": "markdown",
   "metadata": {},
   "source": [
    "## Dell Pre-Processing and Modeling"
   ]
  },
  {
   "cell_type": "code",
   "execution_count": null,
   "metadata": {
    "colab": {
     "base_uri": "https://localhost:8080/"
    },
    "id": "OxC9NFPn4Bqo",
    "outputId": "dd9071c5-b1f0-404c-dbaa-5be86839441f"
   },
   "outputs": [
    {
     "name": "stderr",
     "output_type": "stream",
     "text": [
      "/usr/local/lib/python3.7/dist-packages/statsmodels/tools/_testing.py:19: FutureWarning: pandas.util.testing is deprecated. Use the functions in the public API at pandas.testing instead.\n",
      "  import pandas.util.testing as tm\n"
     ]
    },
    {
     "name": "stdout",
     "output_type": "stream",
     "text": [
      "[nltk_data] Downloading package punkt to /root/nltk_data...\n",
      "[nltk_data]   Unzipping tokenizers/punkt.zip.\n",
      "[nltk_data] Downloading package stopwords to /root/nltk_data...\n",
      "[nltk_data]   Unzipping corpora/stopwords.zip.\n",
      "[nltk_data] Downloading package wordnet to /root/nltk_data...\n",
      "[nltk_data]   Unzipping corpora/wordnet.zip.\n",
      "Populating the interactive namespace from numpy and matplotlib\n"
     ]
    }
   ],
   "source": [
    "import statsmodels.api as sm\n",
    "import pandas as pd\n",
    "import re,string\n",
    "import nltk\n",
    "import ssl\n",
    "try:\n",
    "    _create_unverified_https_context = ssl._create_unverified_context\n",
    "except AttributeError:\n",
    "    pass\n",
    "else:\n",
    "    ssl._create_default_https_context = _create_unverified_https_context\n",
    "nltk.download('punkt')\n",
    "nltk.download('stopwords')\n",
    "nltk.download('wordnet')\n",
    "from patsy import dmatrices\n",
    "from nltk.corpus import stopwords\n",
    "from nltk.probability import FreqDist\n",
    "from nltk.stem import WordNetLemmatizer\n",
    "from nltk.corpus import wordnet as wn\n",
    "from nltk.stem import \tWordNetLemmatizer\n",
    "import matplotlib.pyplot as plt\n",
    "import warnings\n",
    "%pylab inline\n",
    "import numpy as np\n",
    "from sklearn.manifold import MDS\n",
    "from sklearn.metrics import euclidean_distances\n",
    "import spacy\n",
    "from sklearn.feature_extraction.text import CountVectorizer\n",
    "from nltk.collocations import BigramAssocMeasures\n",
    "from nltk.collocations import BigramCollocationFinder\n",
    "from nltk.tokenize import word_tokenize\n",
    "from sklearn.cluster import MiniBatchKMeans\n",
    "from sklearn.metrics import silhouette_samples, silhouette_score\n"
   ]
  },
  {
   "cell_type": "markdown",
   "metadata": {},
   "source": [
    "## Dell Pre-Processing"
   ]
  },
  {
   "cell_type": "code",
   "execution_count": null,
   "metadata": {
    "colab": {
     "base_uri": "https://localhost:8080/"
    },
    "id": "gNq3E3uz4Hpp",
    "outputId": "1b2baf93-ef4c-4947-f73f-75577f300a62"
   },
   "outputs": [
    {
     "name": "stdout",
     "output_type": "stream",
     "text": [
      "Mounted at /content/drive\n"
     ]
    }
   ],
   "source": [
    "##SAVE DATA FILES IN GOOGLE DRIVE (IN MYDRIVE FOLDER)\n",
    "from google.colab import drive\n",
    "drive.mount('/content/drive')\n",
    "%cd drive/MyDrive/\n",
    "%cd Capstone_Data_part1/"
   ]
  },
  {
   "cell_type": "code",
   "execution_count": null,
   "metadata": {
    "id": "XswE3bB6O6zG"
   },
   "outputs": [],
   "source": [
    "#Read ctq dataset with seperated sentences based on agent and chat\n",
    "ctq_sample = pd.read_csv(\"ctq_with_sentences.csv\")\n"
   ]
  },
  {
   "cell_type": "code",
   "execution_count": null,
   "metadata": {
    "id": "BWDc0Gt8XYI-"
   },
   "outputs": [],
   "source": [
    "ctq_sample = ctq_sample.drop_duplicates(\"Case_number\")"
   ]
  },
  {
   "cell_type": "code",
   "execution_count": null,
   "metadata": {
    "id": "jWMn8oEvUqT3"
   },
   "outputs": [],
   "source": [
    "labeled = pd.read_csv('Manual.csv')"
   ]
  },
  {
   "cell_type": "markdown",
   "metadata": {},
   "source": [
    "### Given lack of high computational resources, used 100000 sample chats to perform analysis"
   ]
  },
  {
   "cell_type": "code",
   "execution_count": null,
   "metadata": {
    "id": "JgNakuTFU0o3"
   },
   "outputs": [],
   "source": [
    "labeled = labeled[['Case_number', 'manual_score']]\n",
    "inner_join_df= pd.merge(ctq_sample, labeled, on='Case_number', how='inner')\n",
    "training_data = inner_join_df.drop_duplicates('Case_number')\n",
    "ctq_sample = ctq_sample[~ctq_sample['length_of_chat'].isna()] \n",
    "ctq_sample = ctq_sample.sample(100000, random_state = 42)"
   ]
  },
  {
   "cell_type": "code",
   "execution_count": null,
   "metadata": {
    "colab": {
     "base_uri": "https://localhost:8080/"
    },
    "id": "CmfYjzDMVnR8",
    "outputId": "096ed96a-6c0b-4a23-f056-fa44a565c699"
   },
   "outputs": [
    {
     "data": {
      "text/plain": [
       "Index(['Unnamed: 0', 'FISC_QTR_VAL', 'FISC_WEEK_VAL', 'Group_name',\n",
       "       'Region_name', 'Sub_Region_name', 'Case_number', 'Chat_Create_date',\n",
       "       'Chat_Txnsrpt_body', 'Chat_parsed', 'length_of_chat', 'time_of_chat',\n",
       "       'hour_of_chat', 'Agent Sentences', 'Customer Sentences',\n",
       "       'Combined Sentences'],\n",
       "      dtype='object')"
      ]
     },
     "execution_count": 10,
     "metadata": {},
     "output_type": "execute_result"
    }
   ],
   "source": [
    "ctq_sample.columns"
   ]
  },
  {
   "cell_type": "code",
   "execution_count": null,
   "metadata": {
    "id": "i5eiVIc-6VFo"
   },
   "outputs": [],
   "source": [
    "#In addition to common stopwords, add additional common words found in tech support jargon\n",
    "ignored_words = list(stopwords.words('english'))\n",
    "ignored_words.extend('''thank please name phone 39 yes moment email contacting give get need may let reach\n",
    "                        confirm number chat disconnected hello today could still good know minutes xx hi okay\n",
    "                        send apologize best work inconvenience thanks already well along concern check\n",
    "                        follow would use also ok one sure like contact xxxx see ask asking questions steps great\n",
    "                        fine amp together right back ways done chatting receive go us else case correct time\n",
    "                        service help allow day understand confirmation anything support assist information tag\n",
    "                        servicetag customer survey feedback agent servicetage feel free days business mins next\n",
    "                        cte resolution servicetagized issue issues respond chats 7490 wait i\\\\x1all i\\\\x1am\n",
    "                        quick move user details review prosupport address quot'''.split())"
   ]
  },
  {
   "cell_type": "markdown",
   "metadata": {},
   "source": [
    "### Cleaning Pipeline\n",
    "\n",
    " * Convert list of sentences into string\n",
    " * Lowercase words\n",
    " * Remove [+XYZ chars] in content\n",
    " * Remove multiple spaces in content\n",
    " * Remove ellipsis (and last word)\n",
    " * Replace dash between words\n",
    " * Remove punctuation\n",
    " * Remove stopwords\n",
    " * Keep tokens greater than length 1\n",
    " * Lemmatize word"
   ]
  },
  {
   "cell_type": "code",
   "execution_count": null,
   "metadata": {
    "id": "hXIwIhjL4JwD"
   },
   "outputs": [],
   "source": [
    "wordnet_lemmatizer = WordNetLemmatizer()\n",
    "def containsNumber(value):\n",
    "  if True in [char.isdigit() for char in value]:\n",
    "      return True\n",
    "  return False\n",
    "\n",
    "def clean_tokenize(text):\n",
    "  text = re.sub(r'[^\\w\\s]', '',text.lower())\n",
    "  text = str(text).lower()  # Lowercase words\n",
    "  text = re.sub(r\"\\[(.*?)\\]\", \"\", text)  # Remove [+XYZ chars] in content\n",
    "  text = re.sub(r\"\\s+\", \" \", text)  # Remove multiple spaces in content\n",
    "  text = re.sub(r\"\\w+…|…\", \"\", text)  # Remove ellipsis (and last word)\n",
    "  text = re.sub(r\"(?<=\\w)-(?=\\w)\", \" \", text)  # Replace dash between words\n",
    "  text = re.sub(\n",
    "      f\"[{re.escape(string.punctuation)}]\", \"\", text\n",
    "  )  \n",
    "  punc = string.punctuation\n",
    "  words = []\n",
    "  for word in word_tokenize(text):\n",
    "    if word not in ignored_words and not word.isdigit() and '_' not in word and len(word) > 1 and (not containsNumber(word)):\n",
    "      words.append(wordnet_lemmatizer.lemmatize(word))\n",
    "  \n",
    "  return words\n",
    "\n",
    "def tokenize_sentences(df, col):\n",
    "  tmp = pd.DataFrame(df[col], index= df.index)\n",
    "  tmp[col] = tmp[col].apply(lambda x: x[1:-1].split(','))\n",
    "  tmp['String Sentences'] = tmp[col].apply(lambda x: ''.join(x))\n",
    "  tmp = pd.DataFrame(tmp['String Sentences'], index= df.index)\n",
    "\n",
    "  tmp['tokens'] = tmp['String Sentences'].map(clean_tokenize)\n",
    "  return tmp\n",
    "\n",
    "\n"
   ]
  },
  {
   "cell_type": "markdown",
   "metadata": {},
   "source": [
    "### Tokenize Agents, Customers and Combined Sentences\n",
    "\n",
    "In this analysis, we used the whole sentence in our modeling since that gave us the best results\n",
    "\n",
    "**Possible the customers sentences on their own could provide better results based on deanonmyized data**"
   ]
  },
  {
   "cell_type": "code",
   "execution_count": null,
   "metadata": {
    "id": "gYN5g7805DoF"
   },
   "outputs": [],
   "source": [
    "# agent_sentences = tokenize_sentences(ctq_sample, 'Agent Sentences')\n",
    "# customer_sentences = tokenize_sentences(ctq_sample, 'Customer Sentences')\n",
    "combined_sentences = tokenize_sentences(ctq_sample, 'Combined Sentences')"
   ]
  },
  {
   "cell_type": "code",
   "execution_count": null,
   "metadata": {
    "id": "BqXQjOee_xkx"
   },
   "outputs": [],
   "source": [
    "# agent_raw_sentences = list(agent_sentences['String Sentences'].values)\n",
    "# customer_raw_sentences = list(customer_sentences['String Sentences'].values)\n",
    "combined_raw_sentences = list(combined_sentences['String Sentences'].values)"
   ]
  },
  {
   "cell_type": "code",
   "execution_count": null,
   "metadata": {
    "id": "kvXQzr02_RWd"
   },
   "outputs": [],
   "source": [
    "# agent_sentences = list(agent_sentences.tokens.values)\n",
    "# customer_sentences = list(customer_sentences.tokens.values)\n",
    "combined_sentences = list(combined_sentences.tokens.values)"
   ]
  },
  {
   "cell_type": "markdown",
   "metadata": {
    "id": "Zqx8qpLUAKnu"
   },
   "source": [
    "## Modeling"
   ]
  },
  {
   "cell_type": "markdown",
   "metadata": {},
   "source": [
    "### Generate Word Embeddings and Document Embeddings"
   ]
  },
  {
   "cell_type": "code",
   "execution_count": null,
   "metadata": {
    "id": "kjR_Bx1b_SE4"
   },
   "outputs": [],
   "source": [
    "# RUN ONLY ONCE UNLESS WANT TO RETRAIN\n",
    "from gensim.models import Word2Vec\n",
    "\n",
    "#Generate word embeddings using Word2Vec with dimensionality 300 (hyperparameter)\n",
    "# model_agent = Word2Vec(agent_sentences, min_count=5, workers = 8, size=100, seed = 42)\n",
    "# model_customer = Word2Vec(customer_sentences, min_count=5, workers = 8, size=100, seed = 42)\n",
    "model_combined = Word2Vec(combined_sentences, min_count=10, workers = 8, size=300, seed = 42)\n",
    "# # summarize the loaded model\n",
    "# print(model_agent)\n",
    "# # summarize vocabulary\n",
    "# words = list(model_agent.wv.vocab)\n",
    "# print(words)\n",
    "# # access vector for one word\n",
    "# print(model_agent['sentence'])\n",
    "# model_agent.save('agent_model.bin')\n",
    "# model_customer.save('customer_model.bin')\n",
    "model_combined.save('combined_model.bin')"
   ]
  },
  {
   "cell_type": "code",
   "execution_count": null,
   "metadata": {
    "id": "FxLtdUxKWM3J"
   },
   "outputs": [],
   "source": [
    "# RUN ONLY ONCE UNLESS WANT TO RETRAIN\n",
    "from gensim.models.doc2vec import Doc2Vec, TaggedDocument\n",
    "\n",
    "\n",
    "# documents = [TaggedDocument(doc, [i]) for i, doc in enumerate(customer_raw_sentences)]\n",
    "# documents2 = [TaggedDocument(doc, [i]) for i, doc in enumerate(agent_raw_sentences)]\n",
    "documents3 = [TaggedDocument(doc, [i]) for i, doc in enumerate(combined_raw_sentences)]\n",
    "\n",
    "# model_doc_customers = Doc2Vec(documents, vector_size=100, min_count=1, workers=8, seed = 42, dm = 1)\n",
    "# model_doc_agents = Doc2Vec(documents2, vector_size=100, min_count=1, workers=8, seed = 42, dm = 1)\n",
    "model_doc_combined = Doc2Vec(documents3, vector_size=300, min_count=1, workers=8, seed = 42, dm = 1)\n",
    "\n",
    "\n",
    "# model_doc_agents.save('doc_agent_model.bin')\n",
    "# model_doc_customers.save('doc_customer_model.bin')\n",
    "model_doc_combined.save('doc_combined_model.bin')"
   ]
  },
  {
   "cell_type": "code",
   "execution_count": null,
   "metadata": {
    "id": "ee0Av-inbyth"
   },
   "outputs": [],
   "source": [
    "from gensim.models import Word2Vec\n",
    "\n",
    "model_agent = Word2Vec.load('agent_model.bin')\n",
    "model_customer = Word2Vec.load('customer_model.bin')\n",
    "model_combined = Word2Vec.load('combined_model.bin')"
   ]
  },
  {
   "cell_type": "code",
   "execution_count": null,
   "metadata": {
    "id": "dz7-Ba-qShJn"
   },
   "outputs": [],
   "source": [
    "#\n",
    "from gensim.models.doc2vec import Doc2Vec\n",
    "\n",
    "# model_doc_agents = Doc2Vec.load('doc_agent_model.bin')\n",
    "# model_doc_customers = Doc2Vec.load('doc_customer_model.bin')\n",
    "model_doc_combined = Doc2Vec.load('doc_combined_model.bin')"
   ]
  },
  {
   "cell_type": "code",
   "execution_count": null,
   "metadata": {
    "id": "mKIF_lywb_Ih"
   },
   "outputs": [],
   "source": [
    "vectors_agent = model_agent.wv.vectors\n",
    "words_agent = model_agent.wv.index2word\n",
    "\n",
    "vectors_customer = model_customer.wv.vectors\n",
    "words_customer = model_customer.wv.index2word\n",
    "\n",
    "vectors_combined = model_combined.wv.vectors\n",
    "words_combined = model_combined.wv.index2word"
   ]
  },
  {
   "cell_type": "code",
   "execution_count": null,
   "metadata": {
    "colab": {
     "base_uri": "https://localhost:8080/"
    },
    "id": "pQrBTT-Jxxby",
    "outputId": "4810511c-300b-42e2-e468-665ac8c8bf31"
   },
   "outputs": [
    {
     "data": {
      "text/plain": [
       "[('hw', 0.5515180826187134),\n",
       " ('harware', 0.42240169644355774),\n",
       " ('hardwaresoftware', 0.40844517946243286),\n",
       " ('hardwarepart', 0.4053758978843689),\n",
       " ('conflict', 0.38123923540115356),\n",
       " ('software', 0.36636245250701904),\n",
       " ('corruption', 0.35207873582839966),\n",
       " ('memoryram', 0.3362184166908264),\n",
       " ('electronic', 0.33421701192855835),\n",
       " ('permanent', 0.33289918303489685)]"
      ]
     },
     "execution_count": 15,
     "metadata": {},
     "output_type": "execute_result"
    }
   ],
   "source": [
    "model_combined.wv.most_similar('hardware')"
   ]
  },
  {
   "cell_type": "markdown",
   "metadata": {
    "id": "q8PyhyU2kPbz"
   },
   "source": [
    "## Word Embeddings - Neural Networks\n"
   ]
  },
  {
   "cell_type": "code",
   "execution_count": null,
   "metadata": {
    "id": "IxgJQOEM4B-V"
   },
   "outputs": [],
   "source": [
    "#Associate each embedding to an index for easier access\n",
    "class Indexer(object):\n",
    "\n",
    "    def __init__(self):\n",
    "        self.objs_to_ints = {}\n",
    "        self.ints_to_objs = {}\n",
    "\n",
    "    def __len__(self):\n",
    "        return len(self.objs_to_ints)\n",
    "\n",
    "    def index_of(self, object):\n",
    "        \n",
    "        if (object not in self.objs_to_ints):\n",
    "            return -1\n",
    "        else:\n",
    "            return self.objs_to_ints[object]\n",
    "\n",
    "    def add_and_get_index(self, object):\n",
    "        \n",
    "        if (object not in self.objs_to_ints):\n",
    "            new_idx = len(self.objs_to_ints)\n",
    "            self.objs_to_ints[object] = new_idx\n",
    "            self.ints_to_objs[new_idx] = object\n",
    "        return self.objs_to_ints[object]"
   ]
  },
  {
   "cell_type": "code",
   "execution_count": null,
   "metadata": {
    "id": "sH-T3cLCEV5r"
   },
   "outputs": [],
   "source": [
    "#Class to create word embeddings\n",
    "class WordEmbeddings:\n",
    "   \n",
    "    def __init__(self, word_indexer, vectors):\n",
    "        self.word_indexer = word_indexer\n",
    "        self.vectors = vectors\n",
    "\n",
    "    def get_length(self):\n",
    "        return len(self.vectors[0])\n",
    "\n",
    "\n",
    "    def get_embedding(self, word):\n",
    "        \n",
    "        word_idx = self.word_indexer.index_of(word)\n",
    "        if word_idx != -1:\n",
    "            return self.vectors[word_idx]\n",
    "        else:\n",
    "            return self.vectors[self.word_indexer.index_of(\"UNK\")]"
   ]
  },
  {
   "cell_type": "code",
   "execution_count": null,
   "metadata": {
    "id": "KNWQ7q6GEV8B"
   },
   "outputs": [],
   "source": [
    "words_indexer = Indexer()\n",
    "words_indexer.add_and_get_index(\"PAD\")\n",
    "words_indexer.add_and_get_index(\"UNK\")\n",
    "tmp = list(vectors_combined)\n",
    "tmp.insert(0, np.zeros(300))\n",
    "tmp.insert(0, np.zeros(300))\n",
    "vectors_nn = np.array(tmp)\n",
    "for word in words_combined:\n",
    "  words_indexer.add_and_get_index(word)\n",
    "\n",
    "word_embeddings = WordEmbeddings(words_indexer, vectors_nn)"
   ]
  },
  {
   "cell_type": "code",
   "execution_count": null,
   "metadata": {
    "colab": {
     "base_uri": "https://localhost:8080/"
    },
    "id": "8uJ6mWOGWEqN",
    "outputId": "6bf766f5-0f8d-4424-b574-64fee2224564"
   },
   "outputs": [],
   "source": [
    "words_indexer.objs_to_ints.values()"
   ]
  },
  {
   "cell_type": "code",
   "execution_count": null,
   "metadata": {
    "colab": {
     "base_uri": "https://localhost:8080/"
    },
    "id": "AIovKEzqSQ5M",
    "outputId": "d23defd5-b2f6-43f8-80c1-2a3806a3649a"
   },
   "outputs": [
    {
     "data": {
      "text/plain": [
       "300"
      ]
     },
     "execution_count": 20,
     "metadata": {},
     "output_type": "execute_result"
    }
   ],
   "source": [
    "len(word_embeddings.vectors[0])"
   ]
  },
  {
   "cell_type": "code",
   "execution_count": null,
   "metadata": {
    "id": "CsdK6gBE3l_T"
   },
   "outputs": [],
   "source": [
    "training_sentences = tokenize_sentences(training_data, 'Combined Sentences')\n",
    "training_sentences = list(training_sentences.tokens.values)"
   ]
  },
  {
   "cell_type": "code",
   "execution_count": null,
   "metadata": {
    "id": "5O6TDnDX7JX_"
   },
   "outputs": [],
   "source": [
    "actual_training = training_sentences\n",
    "actual_test = training_sentences[80:]"
   ]
  },
  {
   "cell_type": "markdown",
   "metadata": {},
   "source": [
    "### Convert training data into (nd, dimensions) so that Tensorflow can process it"
   ]
  },
  {
   "cell_type": "code",
   "execution_count": null,
   "metadata": {
    "id": "baqH1U6KbpuQ"
   },
   "outputs": [],
   "source": [
    "data = []\n",
    "labels = []\n",
    "for i, sentence in enumerate(actual_training):\n",
    "    label = training_data.iloc[i]['manual_score'] - 1\n",
    "    indicies = []\n",
    "    for word in sentence:\n",
    "        index = word_embeddings.word_indexer.index_of(word)\n",
    "        if index == -1:\n",
    "            indicies.append(1)\n",
    "        else:\n",
    "            indicies.append(index)\n",
    "    \n",
    "    left = len(word_embeddings.vectors[0]) - len(indicies)\n",
    "    if left >= 0:\n",
    "        indicies += left * [0]\n",
    "    else:\n",
    "        indicies = indicies[:left]\n",
    "    data.append(indicies)\n",
    "    labels.append(label)"
   ]
  },
  {
   "cell_type": "code",
   "execution_count": null,
   "metadata": {
    "id": "Q1iHNmyZnuu0"
   },
   "outputs": [],
   "source": [
    "data = np.array(data)\n",
    "labels = np.array(labels)"
   ]
  },
  {
   "cell_type": "code",
   "execution_count": null,
   "metadata": {
    "colab": {
     "base_uri": "https://localhost:8080/"
    },
    "id": "2unD1KvepyRF",
    "outputId": "f3126c23-72e5-48a6-bf9a-27df1cbeb751"
   },
   "outputs": [
    {
     "data": {
      "text/plain": [
       "(297, 300)"
      ]
     },
     "execution_count": 25,
     "metadata": {},
     "output_type": "execute_result"
    }
   ],
   "source": [
    "data.shape"
   ]
  },
  {
   "cell_type": "markdown",
   "metadata": {},
   "source": [
    "### Classification Network\n"
   ]
  },
  {
   "cell_type": "code",
   "execution_count": null,
   "metadata": {
    "colab": {
     "base_uri": "https://localhost:8080/"
    },
    "id": "di-M1sDxYa5w",
    "outputId": "b99bbe64-c035-400f-b978-acc94df645b4"
   },
   "outputs": [
    {
     "name": "stdout",
     "output_type": "stream",
     "text": [
      "Model: \"sequential\"\n",
      "_________________________________________________________________\n",
      " Layer (type)                Output Shape              Param #   \n",
      "=================================================================\n",
      " embedding (Embedding)       (None, 300, 300)          4833300   \n",
      "                                                                 \n",
      " flatten (Flatten)           (None, 90000)             0         \n",
      "                                                                 \n",
      " dense (Dense)               (None, 64)                5760064   \n",
      "                                                                 \n",
      " dropout (Dropout)           (None, 64)                0         \n",
      "                                                                 \n",
      " dense_1 (Dense)             (None, 10)                650       \n",
      "                                                                 \n",
      "=================================================================\n",
      "Total params: 10,594,014\n",
      "Trainable params: 5,760,714\n",
      "Non-trainable params: 4,833,300\n",
      "_________________________________________________________________\n"
     ]
    }
   ],
   "source": [
    "import tensorflow as tf\n",
    "model = tf.keras.models.Sequential([\n",
    "    \n",
    "    #Embedding layer with mask zero (treat 0 as padding token)\n",
    "    tf.keras.layers.Embedding(\n",
    "    len(word_embeddings.word_indexer),\n",
    "    len(word_embeddings.vectors[0]),\n",
    "    embeddings_initializer=tf.keras.initializers.Constant(vectors_nn),\n",
    "    trainable=False,\n",
    "    mask_zero=True,\n",
    "    input_length=len(word_embeddings.vectors[0])\n",
    "    ),\n",
    "    #Add convolutions if this model shows hope\n",
    "    #For this analysis, we went straight to dense layers since model would overfit instantly\n",
    "    tf.keras.layers.Flatten(),\n",
    "    tf.keras.layers.Dense(64, activation=\"relu\"),\n",
    "    tf.keras.layers.Dropout(0.1),\n",
    "    tf.keras.layers.Dense(10, activation = \"softmax\")\n",
    "])\n",
    "model.summary()\n"
   ]
  },
  {
   "cell_type": "markdown",
   "metadata": {},
   "source": [
    "### Regression Network\n"
   ]
  },
  {
   "cell_type": "code",
   "execution_count": null,
   "metadata": {
    "colab": {
     "base_uri": "https://localhost:8080/"
    },
    "id": "qrRzTkIRigSD",
    "outputId": "13e317d8-6c02-44c1-e4e7-bcad9f5fd4a5"
   },
   "outputs": [
    {
     "name": "stdout",
     "output_type": "stream",
     "text": [
      "Model: \"sequential_5\"\n",
      "_________________________________________________________________\n",
      " Layer (type)                Output Shape              Param #   \n",
      "=================================================================\n",
      " embedding_5 (Embedding)     (None, 300, 300)          4833300   \n",
      "                                                                 \n",
      " flatten_5 (Flatten)         (None, 90000)             0         \n",
      "                                                                 \n",
      " dense_10 (Dense)            (None, 64)                5760064   \n",
      "                                                                 \n",
      " dropout_5 (Dropout)         (None, 64)                0         \n",
      "                                                                 \n",
      " dense_11 (Dense)            (None, 1)                 65        \n",
      "                                                                 \n",
      "=================================================================\n",
      "Total params: 10,593,429\n",
      "Trainable params: 5,760,129\n",
      "Non-trainable params: 4,833,300\n",
      "_________________________________________________________________\n"
     ]
    }
   ],
   "source": [
    "model2 = tf.keras.models.Sequential([\n",
    "                                    \n",
    "    tf.keras.layers.Embedding(\n",
    "    len(word_embeddings.word_indexer),\n",
    "    len(word_embeddings.vectors[0]),\n",
    "    embeddings_initializer=tf.keras.initializers.Constant(vectors_nn),\n",
    "    trainable=False,\n",
    "    mask_zero=True,\n",
    "    input_length=len(word_embeddings.vectors[0])\n",
    "    ),\n",
    "    tf.keras.layers.Flatten(),\n",
    "\n",
    "    tf.keras.layers.Dense(64, activation=\"relu\"),\n",
    "    tf.keras.layers.Dropout(0.1),\n",
    "    tf.keras.layers.Dense(1, activation = \"relu\")\n",
    "])\n",
    "model2.summary()"
   ]
  },
  {
   "cell_type": "code",
   "execution_count": null,
   "metadata": {
    "colab": {
     "base_uri": "https://localhost:8080/"
    },
    "id": "LlAZ33MLiu9k",
    "outputId": "5c284b36-6ef7-499c-e31d-21b3234453c6"
   },
   "outputs": [
    {
     "name": "stdout",
     "output_type": "stream",
     "text": [
      "Epoch 1/5\n",
      "237/237 [==============================] - 8s 32ms/step - loss: 7.4001 - val_loss: 7.4796\n",
      "Epoch 2/5\n",
      "237/237 [==============================] - 7s 31ms/step - loss: 41.2045 - val_loss: 13.3879\n",
      "Epoch 3/5\n",
      "237/237 [==============================] - 7s 31ms/step - loss: 9.4354 - val_loss: 11.3340\n",
      "Epoch 4/5\n",
      "237/237 [==============================] - 7s 31ms/step - loss: 8.7848 - val_loss: 11.1543\n",
      "Epoch 5/5\n",
      "237/237 [==============================] - 7s 31ms/step - loss: 8.4656 - val_loss: 9.2839\n"
     ]
    }
   ],
   "source": [
    "model2.compile(optimizer=tf.keras.optimizers.Adam(learning_rate=2.5e-4),loss='mean_squared_error')\n",
    "training = model2.fit(data, labels, batch_size=1, epochs=5, validation_split=.2)"
   ]
  },
  {
   "cell_type": "code",
   "execution_count": null,
   "metadata": {
    "colab": {
     "base_uri": "https://localhost:8080/",
     "height": 295
    },
    "id": "Zx8teYaO_gjb",
    "outputId": "8b43b3a2-205a-42f8-e372-4c87d4ebc05d"
   },
   "outputs": [
    {
     "data": {
      "image/png": "[encoded data removed]",
      "text/plain": [
       "<Figure size 432x288 with 1 Axes>"
      ]
     },
     "metadata": {
      "needs_background": "light"
     },
     "output_type": "display_data"
    }
   ],
   "source": [
    "\n",
    "plt.plot(training.history['loss'])\n",
    "plt.plot(training.history['val_loss'])\n",
    "plt.title('MSE vs Epoch')\n",
    "plt.ylabel('MSE')\n",
    "plt.xlabel('epoch')\n",
    "plt.legend(['train', 'validation'], loc='upper left')\n",
    "plt.show()"
   ]
  },
  {
   "cell_type": "code",
   "execution_count": null,
   "metadata": {
    "colab": {
     "base_uri": "https://localhost:8080/"
    },
    "id": "UlulJ_HqoEJn",
    "outputId": "e5f5b02c-3eda-4762-8ae9-5c8bcc14f6e6"
   },
   "outputs": [
    {
     "name": "stdout",
     "output_type": "stream",
     "text": [
      "Epoch 1/5\n",
      "237/237 [==============================] - 13s 47ms/step - loss: 3.1986 - accuracy: 0.1688 - val_loss: 3.2623 - val_accuracy: 0.1833\n",
      "Epoch 2/5\n",
      "237/237 [==============================] - 9s 39ms/step - loss: 1.0772 - accuracy: 0.7131 - val_loss: 4.1586 - val_accuracy: 0.1833\n",
      "Epoch 3/5\n",
      "237/237 [==============================] - 8s 32ms/step - loss: 0.7142 - accuracy: 0.8143 - val_loss: 4.1552 - val_accuracy: 0.2000\n",
      "Epoch 4/5\n",
      "237/237 [==============================] - 7s 32ms/step - loss: 0.4404 - accuracy: 0.8734 - val_loss: 5.0173 - val_accuracy: 0.1667\n",
      "Epoch 5/5\n",
      "237/237 [==============================] - 8s 32ms/step - loss: 0.4358 - accuracy: 0.9030 - val_loss: 6.1782 - val_accuracy: 0.1000\n"
     ]
    }
   ],
   "source": [
    "model.compile(\n",
    "    optimizer='adam',\n",
    "    loss='sparse_categorical_crossentropy',\n",
    "    metrics=['accuracy']\n",
    ")\n",
    "training = model.fit(data, labels, batch_size=1, epochs=5, validation_split=.2)"
   ]
  },
  {
   "cell_type": "code",
   "execution_count": null,
   "metadata": {
    "colab": {
     "base_uri": "https://localhost:8080/",
     "height": 295
    },
    "id": "_rjTo4nrCAMf",
    "outputId": "3090dba0-c9ae-4869-d0de-b06f59484ac2"
   },
   "outputs": [
    {
     "data": {
      "image/png": "[encoded data removed]",
      "text/plain": [
       "<Figure size 432x288 with 1 Axes>"
      ]
     },
     "metadata": {
      "needs_background": "light"
     },
     "output_type": "display_data"
    }
   ],
   "source": [
    "plt.plot(training.history['accuracy'])\n",
    "plt.plot(training.history['val_accuracy'])\n",
    "plt.title('Model Accuracy')\n",
    "plt.ylabel('Accuracy')\n",
    "plt.xlabel('epoch')\n",
    "plt.legend(['train', 'validation'], loc='upper left')\n",
    "plt.show()"
   ]
  },
  {
   "cell_type": "code",
   "execution_count": null,
   "metadata": {
    "colab": {
     "base_uri": "https://localhost:8080/"
    },
    "id": "JqUdFAn1Tera",
    "outputId": "23fc6707-78c4-42fc-fb56-847f6628c4fa"
   },
   "outputs": [
    {
     "data": {
      "text/plain": [
       "array([ 6,  8,  3,  9, 10,  5,  6,  1,  1,  6,  7,  4,  5,  5,  5,  6,  7,\n",
       "        7,  5,  4,  7,  5,  3,  3,  5,  5,  7,  3,  5,  4,  7,  4,  6,  6,\n",
       "        4,  3,  4,  5,  4,  6,  7,  4,  4,  4,  2,  5,  7,  5,  7,  3,  7,\n",
       "        8,  4,  7,  1,  1,  2,  4,  5,  1,  8,  7,  5,  6,  5,  4,  2,  7,\n",
       "        2,  3,  7,  6,  9,  5,  9,  8,  6,  7,  5,  5,  1,  4,  4,  3,  5,\n",
       "        3,  6,  9,  5,  7,  7,  8,  3,  5,  1,  8, 10,  7,  6,  2,  5,  4,\n",
       "        6,  6,  3,  3,  5,  7,  7,  4,  6,  8,  6,  3,  1,  4,  3,  4,  3,\n",
       "        4,  5,  6,  2,  6,  8,  7,  5,  1,  6,  4,  2,  4,  2,  2,  5,  6,\n",
       "        6,  3,  7,  5,  6,  2,  7,  6,  1,  6,  9,  5,  5,  4,  2,  3,  4,\n",
       "        3,  4,  5,  5,  2,  6,  6,  5,  7,  1,  1,  2,  1,  9,  8,  2,  3,\n",
       "        2,  5,  5,  3,  7,  1,  6,  7,  4,  6,  5,  2,  6,  4,  7,  2,  9,\n",
       "        8,  5,  7,  2,  5,  6,  4,  9,  6,  4,  3,  7,  5,  6,  5,  3,  5,\n",
       "        4,  2,  4,  5,  7,  4,  4,  6,  6,  6,  7,  4,  6,  8,  7,  7,  9,\n",
       "        3,  6,  5,  7,  6,  6,  6,  2,  3,  6,  7,  6,  3,  5,  6,  4,  6,\n",
       "        1,  3,  7,  6,  7,  4,  6,  6,  6,  5,  6,  7,  7,  7,  3,  4,  7,\n",
       "        7,  5,  8,  7,  3,  6,  7,  5,  5,  6,  7,  7,  6,  6,  6,  6,  5,\n",
       "        6,  6,  4,  7,  7,  7,  6,  7,  6,  6,  7,  7,  1,  6,  2,  5,  7,\n",
       "        3,  7,  4,  1,  5,  7,  6,  3])"
      ]
     },
     "execution_count": 58,
     "metadata": {},
     "output_type": "execute_result"
    }
   ],
   "source": [
    "pred_probs = model.predict(data)\n",
    "pred_class = np.argmax(pred_probs, axis=1)\n",
    "pred_class+1"
   ]
  },
  {
   "cell_type": "markdown",
   "metadata": {
    "id": "mz-i8hdHkbdp"
   },
   "source": [
    "## Word Embeddings - Clustering\n"
   ]
  },
  {
   "cell_type": "code",
   "execution_count": null,
   "metadata": {
    "id": "bgDJhK_XkgGI"
   },
   "outputs": [],
   "source": [
    "#Function to create a vector per document by averaging its word vectors.\n",
    "def vectorize(list_of_docs, model):\n",
    "\n",
    "    features = []\n",
    "\n",
    "    for tokens in list_of_docs:\n",
    "        zero_vector = np.zeros(model.vector_size)\n",
    "        vectors = []\n",
    "        for token in tokens:\n",
    "            if token in model.wv:\n",
    "                try:\n",
    "                    vectors.append(model.wv[token])\n",
    "                except:\n",
    "                    continue\n",
    "        if vectors:\n",
    "            vectors = np.asarray(vectors)\n",
    "            avg_vec = vectors.mean(axis=0)\n",
    "            features.append(avg_vec)\n",
    "        else:\n",
    "            features.append(zero_vector)\n",
    "    return features\n",
    "    "
   ]
  },
  {
   "cell_type": "code",
   "execution_count": null,
   "metadata": {
    "colab": {
     "base_uri": "https://localhost:8080/"
    },
    "id": "g1sM6I10l7jn",
    "outputId": "c49bc9a5-7de6-41ce-e01c-033bb9d69103"
   },
   "outputs": [
    {
     "data": {
      "text/plain": [
       "(100000, 100)"
      ]
     },
     "execution_count": 159,
     "metadata": {},
     "output_type": "execute_result"
    }
   ],
   "source": [
    "# vectorized_docs = vectorize(customer_sentences, model_customer)\n",
    "# len(vectorized_docs), len(vectorized_docs[0])"
   ]
  },
  {
   "cell_type": "code",
   "execution_count": null,
   "metadata": {
    "colab": {
     "base_uri": "https://localhost:8080/"
    },
    "id": "-JBYAEMRX0Vq",
    "outputId": "91fcc811-7585-46c9-d36e-4b34c74b791c"
   },
   "outputs": [
    {
     "data": {
      "text/plain": [
       "(100000, 300)"
      ]
     },
     "execution_count": 30,
     "metadata": {},
     "output_type": "execute_result"
    }
   ],
   "source": [
    "#Whole sentence\n",
    "vectorized_docs = vectorize(combined_sentences, model_combined)\n",
    "len(vectorized_docs), len(vectorized_docs[0])"
   ]
  },
  {
   "cell_type": "code",
   "execution_count": null,
   "metadata": {
    "colab": {
     "base_uri": "https://localhost:8080/"
    },
    "id": "eKWDat46k9zW",
    "outputId": "078c0a3b-ad12-4bd8-8f62-e352fff6bc79"
   },
   "outputs": [
    {
     "data": {
      "text/plain": [
       "(297, 100)"
      ]
     },
     "execution_count": 21,
     "metadata": {},
     "output_type": "execute_result"
    }
   ],
   "source": [
    "# #Manual Training List\n",
    "# vectorized_docs = vectorize(training_sentences, model_combined)\n",
    "# len(vectorized_docs), len(vectorized_docs[0])\n"
   ]
  },
  {
   "cell_type": "code",
   "execution_count": null,
   "metadata": {
    "id": "kcLMdsXUoFIJ"
   },
   "outputs": [],
   "source": [
    "def mbkmeans_clusters(X, k, mb, print_silhouette_values, ):\n",
    "    \n",
    "    km = MiniBatchKMeans(n_clusters=k, batch_size=mb).fit(X)\n",
    "    print(f\"For n_clusters = {k}\")\n",
    "    print(f\"Silhouette coefficient: {silhouette_score(X, km.labels_):0.2f}\")\n",
    "    ##https://scikit-learn.org/stable/modules/clustering.html#silhouette-coefficient\n",
    "    ##Generally you want silhouette score to be as close to 1 as possible\n",
    "    if print_silhouette_values:\n",
    "        sample_silhouette_values = silhouette_samples(X, km.labels_)\n",
    "        print(f\"Silhouette values:\")\n",
    "        silhouette_values = []\n",
    "        for i in range(k):\n",
    "            cluster_silhouette_values = sample_silhouette_values[km.labels_ == i]\n",
    "            silhouette_values.append(\n",
    "                (\n",
    "                    i,\n",
    "                    cluster_silhouette_values.shape[0],\n",
    "                    cluster_silhouette_values.mean(),\n",
    "                    cluster_silhouette_values.min(),\n",
    "                    cluster_silhouette_values.max(),\n",
    "                )\n",
    "            )\n",
    "        silhouette_values = sorted(\n",
    "            silhouette_values, key=lambda tup: tup[2], reverse=True\n",
    "        )\n",
    "        for s in silhouette_values:\n",
    "            print(\n",
    "                f\"    Cluster {s[0]}: Size:{s[1]} | Avg:{s[2]:.2f} | Min:{s[3]:.2f} | Max: {s[4]:.2f}\"\n",
    "            )\n",
    "    return km, km.labels_"
   ]
  },
  {
   "cell_type": "markdown",
   "metadata": {},
   "source": [
    "### Doc2Vec results"
   ]
  },
  {
   "cell_type": "code",
   "execution_count": null,
   "metadata": {
    "colab": {
     "base_uri": "https://localhost:8080/"
    },
    "id": "96pHESXrga7j",
    "outputId": "fbbed9d8-424c-4fa6-b70b-08332d72c63f"
   },
   "outputs": [
    {
     "name": "stderr",
     "output_type": "stream",
     "text": [
      "/usr/local/lib/python3.7/dist-packages/ipykernel_launcher.py:1: DeprecationWarning: Call to deprecated `doctag_syn0` (Attribute will be removed in 4.0.0, use docvecs.vectors_docs instead).\n",
      "  \"\"\"Entry point for launching an IPython kernel.\n"
     ]
    },
    {
     "name": "stdout",
     "output_type": "stream",
     "text": [
      "For n_clusters = 10\n",
      "Silhouette coefficient: 0.02\n",
      "Silhouette values:\n",
      "    Cluster 4: Size:17691 | Avg:0.09 | Min:0.01 | Max: 0.20\n",
      "    Cluster 3: Size:14235 | Avg:0.04 | Min:-0.03 | Max: 0.14\n",
      "    Cluster 2: Size:13677 | Avg:0.02 | Min:-0.07 | Max: 0.14\n",
      "    Cluster 5: Size:6270 | Avg:0.01 | Min:-0.12 | Max: 0.16\n",
      "    Cluster 9: Size:5993 | Avg:0.01 | Min:-0.12 | Max: 0.16\n",
      "    Cluster 7: Size:13035 | Avg:0.01 | Min:-0.09 | Max: 0.12\n",
      "    Cluster 6: Size:7358 | Avg:-0.00 | Min:-0.14 | Max: 0.13\n",
      "    Cluster 1: Size:6470 | Avg:-0.01 | Min:-0.14 | Max: 0.12\n",
      "    Cluster 0: Size:8350 | Avg:-0.06 | Min:-0.17 | Max: 0.07\n",
      "    Cluster 8: Size:6921 | Avg:-0.07 | Min:-0.17 | Max: 0.06\n"
     ]
    }
   ],
   "source": [
    "#DOC2VEC giving worse results\n",
    "clustering, cluster_labels = mbkmeans_clusters( X=model_doc_combined.docvecs.doctag_syn0\n",
    ", k=10, mb=10000, print_silhouette_values=True)\n",
    "df_clusters = pd.DataFrame({\n",
    "      \"text\": ctq_sample['Chat_parsed'],\n",
    "      \"Customer tokens\": [\" \".join(text) for text in combined_sentences],\n",
    "      \"cluster\": cluster_labels\n",
    "})"
   ]
  },
  {
   "cell_type": "markdown",
   "metadata": {},
   "source": [
    "### Word2Vec results"
   ]
  },
  {
   "cell_type": "code",
   "execution_count": null,
   "metadata": {
    "colab": {
     "base_uri": "https://localhost:8080/"
    },
    "id": "kzgIJwWG7ncO",
    "outputId": "b77505ed-2cfb-406a-933d-957328a90fca"
   },
   "outputs": [
    {
     "name": "stdout",
     "output_type": "stream",
     "text": [
      "For n_clusters = 10\n",
      "Silhouette coefficient: 0.08\n",
      "Silhouette values:\n",
      "    Cluster 9: Size:1993 | Avg:0.16 | Min:-0.11 | Max: 0.39\n",
      "    Cluster 5: Size:7526 | Avg:0.14 | Min:-0.00 | Max: 0.31\n",
      "    Cluster 6: Size:17512 | Avg:0.11 | Min:-0.03 | Max: 0.26\n",
      "    Cluster 7: Size:10205 | Avg:0.10 | Min:-0.02 | Max: 0.27\n",
      "    Cluster 3: Size:15901 | Avg:0.09 | Min:-0.01 | Max: 0.23\n",
      "    Cluster 4: Size:5214 | Avg:0.07 | Min:-0.07 | Max: 0.25\n",
      "    Cluster 1: Size:12648 | Avg:0.06 | Min:-0.07 | Max: 0.22\n",
      "    Cluster 2: Size:9272 | Avg:0.05 | Min:-0.04 | Max: 0.20\n",
      "    Cluster 8: Size:13542 | Avg:0.03 | Min:-0.06 | Max: 0.13\n",
      "    Cluster 0: Size:6187 | Avg:0.00 | Min:-0.15 | Max: 0.20\n"
     ]
    }
   ],
   "source": [
    "clustering, cluster_labels = mbkmeans_clusters( X=vectorized_docs, k=10, mb=10000, print_silhouette_values=True)\n",
    "df_clusters = pd.DataFrame({\n",
    "      \"text\": ctq_sample['Chat_parsed'],\n",
    "      \"Customer tokens\": [\" \".join(text) for text in combined_sentences],\n",
    "      \"cluster\": cluster_labels\n",
    "})"
   ]
  },
  {
   "cell_type": "code",
   "execution_count": null,
   "metadata": {
    "colab": {
     "base_uri": "https://localhost:8080/"
    },
    "id": "Grnb2muGs2nX",
    "outputId": "6c867d2c-7b18-4512-d8d2-f67bbe110778"
   },
   "outputs": [
    {
     "name": "stdout",
     "output_type": "stream",
     "text": [
      "Cluster 0: aservicetagg plz dsp aservicetagb sir aservicetagw aservicetagi aservicetagm aservicetagh drt \n",
      "Cluster 1: warranty purchase purchasing warrenty reseller therefore discount order buy pay \n",
      "Cluster 2: part ost cx mobo insists declined denies refused insisted replace \n",
      "Cluster 3: bios driver window installs o rebooted utility reboot try generic \n",
      "Cluster 4: ty nah sweet kk partselection pn coolio improve yw man \n",
      "Cluster 5: system zone valid active est caused ensure confirming near physical \n",
      "Cluster 6: sent addresscontact dispatch tech part technician quote perfect mailed absolutely \n",
      "Cluster 7: power plugged unplugged plug adapter light plugging turn powered charger \n",
      "Cluster 8: computer system laptop monitor device display detects recognizes pc dock \n",
      "Cluster 9: response reply chatthank received minute disconnect conversation reponse connected kindly \n"
     ]
    }
   ],
   "source": [
    "for i in range(10):\n",
    "    tokens_per_cluster = \"\"\n",
    "    most_representative = model_combined.wv.most_similar(positive=[clustering.cluster_centers_[i]], topn=10)\n",
    "    for t in most_representative:\n",
    "        tokens_per_cluster += f\"{t[0]} \"\n",
    "    print(f\"Cluster {i}: {tokens_per_cluster}\")"
   ]
  },
  {
   "cell_type": "code",
   "execution_count": null,
   "metadata": {
    "id": "ZMpySf-nagWe"
   },
   "outputs": [],
   "source": [
    "ctq_sample['Cluster'] = cluster_labels"
   ]
  },
  {
   "cell_type": "code",
   "execution_count": null,
   "metadata": {
    "id": "S2hWudy9nz2e"
   },
   "outputs": [],
   "source": [
    "ctq_sample.to_csv(\"Analysis.csv\")"
   ]
  }
 ],
 "metadata": {
  "colab": {
   "collapsed_sections": [],
   "name": "Dell Capstone - Pre-Processing/Modeling",
   "provenance": []
  },
  "kernelspec": {
   "display_name": "Python 3 (ipykernel)",
   "language": "python",
   "name": "python3"
  },
  "language_info": {
   "codemirror_mode": {
    "name": "ipython",
    "version": 3
   },
   "file_extension": ".py",
   "mimetype": "text/x-python",
   "name": "python",
   "nbconvert_exporter": "python",
   "pygments_lexer": "ipython3",
   "version": "3.7.3"
  }
 },
 "nbformat": 4,
 "nbformat_minor": 1
}
